{
 "cells": [
  {
   "cell_type": "code",
   "execution_count": 1,
   "metadata": {},
   "outputs": [],
   "source": [
    "import numpy as np\n",
    "import csv\n",
    "import matplotlib.pyplot as plt\n",
    "np.set_printoptions(precision=2)"
   ]
  },
  {
   "cell_type": "code",
   "execution_count": 2,
   "metadata": {},
   "outputs": [],
   "source": [
    "# augment matrix and solve by gauss elimination\n",
    "\n",
    "#define function to read csv data into an array given a filename\n",
    "def opencsv(file):\n",
    "    with open(\"\".join( [\"data/\",file] ), 'r') as f:\n",
    "        r = csv.reader(f)\n",
    "        data = list(r)\n",
    "    #return array of values\n",
    "    return np.array(data,dtype=float)"
   ]
  },
  {
   "cell_type": "code",
   "execution_count": 3,
   "metadata": {},
   "outputs": [],
   "source": [
    "# function to find the sum of x^n*y^n for an array\n",
    "def sum_xy( x,n1,y,n2 ): #takes an x-value array, y-value array and two indices\n",
    "    sum = 0\n",
    "    for i in range(0, x.shape[0]):\n",
    "        sum += ( x[i]**n1)*(y[i]**n2 )\n",
    "    return sum"
   ]
  },
  {
   "cell_type": "code",
   "execution_count": 4,
   "metadata": {},
   "outputs": [],
   "source": [
    "# takes an array of x and y values and performs least squares matrix augmentation\n",
    "# to solve for a polynomial of degree N.\n",
    "# N+1 GIVES THE HEIGHT OF THE AUGMENTED MATRIX\n",
    "# returns an augmented matrix\n",
    "def augment(values,N):\n",
    "    mat = np.zeros( [N+1,N+2] ) #creates an array of zeros\n",
    "    for diag in range( 0,N+4 ): #for each +ve diagonal set (0, 1, 2, ..., 'height'+2)\n",
    "        for htl in range( 0,N+1 ): #for the horizontal (0, 1, 2, ..., 'height'-1)                 /X/      \n",
    "            for vtl in range( 0,N+1 ): #for the vertical (0, 1, 2, ..., 'height'-1)               /X/\n",
    "                if htl+vtl == diag: #if (htl,vtl) lies on the +ve diagonal e.g  /X/\n",
    "                    mat[ vtl,htl ] = sum_xy(values[:,0 ], diag, np.ones(values.shape[0]), 0) #set the element to sum of x^{diag}\n",
    "    for i in range(0, N+1): #for the augment\n",
    "        mat[i,N+1] = sum_xy(values[:,0], i, values[:,1],1)\n",
    "    return mat"
   ]
  },
  {
   "cell_type": "code",
   "execution_count": 5,
   "metadata": {},
   "outputs": [],
   "source": [
    "\n",
    "# gauss-jordan elimination function takes an augmented matrix\n",
    "def gaussjord_elim(mat,N): #where M gives a matrix with N unknowns\n",
    "    prow = 0 #pivot row\n",
    "    x = np.zeros(N) #array of size N\n",
    "    \n",
    "    for prow in range( 0,N ): #for each pivot row\n",
    "        for row in range( 0,N ): #for each row\n",
    "            if row != prow: #except the pivot row\n",
    "                ratio = mat[ row,prow ] / mat[ prow,prow ] #find the ratio needed to gain 0 in the primary position of selected row\n",
    "                for col in range( prow,N+1 ): #for each element in current row\n",
    "                    if (row==3 & col == 4) :\n",
    "                        print('Ratio for M31:', ratio, '\\tPivot row:',prow,\n",
    "                              '\\nSum equals:', mat[row,col],'-',ratio,'*', mat[prow,col],'=', mat[ row,col ] - ratio * mat[ prow,col ])\n",
    "                    mat[ row,col ] -= ratio * mat[ prow,col ] #M'_ij = M_ij-(R*M_kj) where N < j < k and N is the width of M\n",
    "    for i in reversed(range( 0,N )): #for each element in x-vector, starting with the last\n",
    "        for j in reversed(range( 0,N )): #for each row\n",
    "            x[i] = (1/mat[i, i]) * mat[i, N]\n",
    "    return x"
   ]
  },
  {
   "cell_type": "code",
   "execution_count": 6,
   "metadata": {},
   "outputs": [
    {
     "data": {
      "text/plain": [
       "'file = \"data_w8.csv\" #define the filename\\nvalues = opencsv(file) #imports data into values([],[])\\na = gaussjord_elim(augment(values,3),4)\\nX1, X2 = values[:,0], np.linspace(-10,10,23)\\nY1, Y2 = values[:,1], (a[0] + a[1]*X2 + a[2]*X2**2 + a[3]*X2**3)\\nfig, ax = plt.subplots()\\nax.plot(X2, Y2, color=\"c\", alpha=0.5, linestyle=\\'--\\', label=\\'Fitted line\\')\\nax.plot(X1, Y1, color=\"C1\", marker=\\'x\\', linestyle=\\'none\\', label=\\'Data\\')\\nax.set_title(\\'Fitting a polynomial function\\')\\nax.set_xlabel(\\'x\\')\\nax.set_ylabel(\\'y\\')\\nax.legend(loc=\"upper left\")\\nprint(\\'A0:\\', a[0], \\'\\nA1:\\', a[1],\\n      \\'\\nA2\\', a[2], \\'\\nA3\\', a[3])'"
      ]
     },
     "execution_count": 6,
     "metadata": {},
     "output_type": "execute_result"
    }
   ],
   "source": [
    "#Example of use\n",
    "file = \"data_w8.csv\" #define the filename\n",
    "values = opencsv(file) #imports data into values([],[])\n",
    "a = gaussjord_elim(augment(values,3),4)\n"
   ]
  }
 ],
 "metadata": {
  "kernelspec": {
   "display_name": "Python 3",
   "language": "python",
   "name": "python3"
  },
  "language_info": {
   "codemirror_mode": {
    "name": "ipython",
    "version": 3
   },
   "file_extension": ".py",
   "mimetype": "text/x-python",
   "name": "python",
   "nbconvert_exporter": "python",
   "pygments_lexer": "ipython3",
   "version": "3.10.8"
  }
 },
 "nbformat": 4,
 "nbformat_minor": 2
}
