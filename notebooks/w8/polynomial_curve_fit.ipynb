{
 "cells": [
  {
   "cell_type": "code",
   "execution_count": 8,
   "metadata": {},
   "outputs": [],
   "source": [
    "#import main\n",
    "import numpy as np\n",
    "import csv\n",
    "import matplotlib.pyplot as plt\n",
    "np.set_printoptions(precision=2)"
   ]
  },
  {
   "cell_type": "code",
   "execution_count": 9,
   "metadata": {},
   "outputs": [],
   "source": [
    "# augment matrix and solve by gauss elimination\n",
    "\n",
    "#define function to read csv data into an array given a filename\n",
    "def opencsv(file):\n",
    "    with open(\"\".join( [\"data/\",file] ), 'r') as f:\n",
    "        r = csv.reader(f)\n",
    "        data = list(r)\n",
    "    #return array of values\n",
    "    return np.array(data,dtype=float)"
   ]
  },
  {
   "cell_type": "code",
   "execution_count": 10,
   "metadata": {},
   "outputs": [],
   "source": [
    "# function to find the sum of x^n*y^n for an array\n",
    "def sum_xy( x,n1,y,n2 ): #takes an x-value array, y-value array and two indices\n",
    "    sum = 0\n",
    "    for i in range(0, x.shape[0]):\n",
    "        sum += ( x[i]**n1)*(y[i]**n2 )\n",
    "    return sum"
   ]
  },
  {
   "cell_type": "code",
   "execution_count": 11,
   "metadata": {},
   "outputs": [],
   "source": [
    "# takes an array of x and y values and performs least squares matrix augmentation\n",
    "# to solve for a polynomial of degree N.\n",
    "# N+1 GIVES THE HEIGHT OF THE AUGMENTED MATRIX\n",
    "# returns an augmented matrix\n",
    "def augment(values,N):\n",
    "    mat = np.zeros( [N+1,N+2] ) #creates an array of zeros\n",
    "    for diag in range( 0,N+4 ): #for each +ve diagonal set (0, 1, 2, ..., 'height'+2)\n",
    "        for htl in range( 0,N+1 ): #for the horizontal (0, 1, 2, ..., 'height'-1)                 /X/      \n",
    "            for vtl in range( 0,N+1 ): #for the vertical (0, 1, 2, ..., 'height'-1)               /X/\n",
    "                if htl+vtl == diag: #if (htl,vtl) lies on the +ve diagonal e.g  /X/\n",
    "                    mat[ vtl,htl ] = sum_xy(values[:,0 ], diag, np.ones(values.shape[0]), 0) #set the element to sum of x^{diag}\n",
    "    for i in range(0, N+1): #for the augment\n",
    "        mat[i,N+1] = sum_xy(values[:,0], i, values[:,1],1)\n",
    "    return mat"
   ]
  },
  {
   "cell_type": "code",
   "execution_count": 12,
   "metadata": {},
   "outputs": [],
   "source": [
    "\n",
    "# gauss-jordan elimination function takes an augmented matrix\n",
    "def gaussjord_elim(mat,N): #where M gives a matrix with N unknowns\n",
    "    prow = 0 #pivot row\n",
    "    x = np.zeros(N) #array of size N\n",
    "    \n",
    "    for prow in range( 0,N ): #for each pivot row\n",
    "        for row in range( 0,N ): #for each row\n",
    "            if row != prow: #except the pivot row\n",
    "                ratio = mat[ row,prow ] / mat[ prow,prow ] #find the ratio needed to gain 0 in the primary position of selected row\n",
    "                for col in range( prow,N+1 ): #for each element in current row\n",
    "                    if (row==3 & col == 4) :\n",
    "                        print('Ratio for M31:', ratio, '\\tPivot row:',prow,\n",
    "                              '\\nSum equals:', mat[row,col],'-',ratio,'*', mat[prow,col],'=', mat[ row,col ] - ratio * mat[ prow,col ])\n",
    "                    mat[ row,col ] -= ratio * mat[ prow,col ] #M'_ij = M_ij-(R*M_kj) where N < j < k and N is the width of M\n",
    "    for i in reversed(range( 0,N )): #for each element in x-vector, starting with the last\n",
    "        for j in reversed(range( 0,N )): #for each row\n",
    "            x[i] = (1/mat[i, i]) * mat[i, N]\n",
    "    return x"
   ]
  },
  {
   "cell_type": "code",
   "execution_count": 13,
   "metadata": {},
   "outputs": [
    {
     "ename": "FileNotFoundError",
     "evalue": "[Errno 2] No such file or directory: 'data/data.csv'",
     "output_type": "error",
     "traceback": [
      "\u001b[0;31m---------------------------------------------------------------------------\u001b[0m",
      "\u001b[0;31mFileNotFoundError\u001b[0m                         Traceback (most recent call last)",
      "\u001b[1;32m/workspaces/codespaces-jupyter/notebooks/w8/polynomial_curve_fit.ipynb Cell 6\u001b[0m line \u001b[0;36m3\n\u001b[1;32m      <a href='vscode-notebook-cell://codespaces%2Bscaling-lamp-4p5wqr5wv9wf5x57/workspaces/codespaces-jupyter/notebooks/w8/polynomial_curve_fit.ipynb#W5sdnNjb2RlLXJlbW90ZQ%3D%3D?line=0'>1</a>\u001b[0m \u001b[39m#Example of use\u001b[39;00m\n\u001b[1;32m      <a href='vscode-notebook-cell://codespaces%2Bscaling-lamp-4p5wqr5wv9wf5x57/workspaces/codespaces-jupyter/notebooks/w8/polynomial_curve_fit.ipynb#W5sdnNjb2RlLXJlbW90ZQ%3D%3D?line=1'>2</a>\u001b[0m file \u001b[39m=\u001b[39m \u001b[39m\"\u001b[39m\u001b[39mdata.csv\u001b[39m\u001b[39m\"\u001b[39m \u001b[39m#define the filename\u001b[39;00m\n\u001b[0;32m----> <a href='vscode-notebook-cell://codespaces%2Bscaling-lamp-4p5wqr5wv9wf5x57/workspaces/codespaces-jupyter/notebooks/w8/polynomial_curve_fit.ipynb#W5sdnNjb2RlLXJlbW90ZQ%3D%3D?line=2'>3</a>\u001b[0m values \u001b[39m=\u001b[39m opencsv(file) \u001b[39m#imports data into values([],[])\u001b[39;00m\n\u001b[1;32m      <a href='vscode-notebook-cell://codespaces%2Bscaling-lamp-4p5wqr5wv9wf5x57/workspaces/codespaces-jupyter/notebooks/w8/polynomial_curve_fit.ipynb#W5sdnNjb2RlLXJlbW90ZQ%3D%3D?line=3'>4</a>\u001b[0m a \u001b[39m=\u001b[39m gaussjord_elim(augment(values,\u001b[39m3\u001b[39m),\u001b[39m4\u001b[39m)\n",
      "\u001b[1;32m/workspaces/codespaces-jupyter/notebooks/w8/polynomial_curve_fit.ipynb Cell 6\u001b[0m line \u001b[0;36m5\n\u001b[1;32m      <a href='vscode-notebook-cell://codespaces%2Bscaling-lamp-4p5wqr5wv9wf5x57/workspaces/codespaces-jupyter/notebooks/w8/polynomial_curve_fit.ipynb#W5sdnNjb2RlLXJlbW90ZQ%3D%3D?line=3'>4</a>\u001b[0m \u001b[39mdef\u001b[39;00m \u001b[39mopencsv\u001b[39m(file):\n\u001b[0;32m----> <a href='vscode-notebook-cell://codespaces%2Bscaling-lamp-4p5wqr5wv9wf5x57/workspaces/codespaces-jupyter/notebooks/w8/polynomial_curve_fit.ipynb#W5sdnNjb2RlLXJlbW90ZQ%3D%3D?line=4'>5</a>\u001b[0m     \u001b[39mwith\u001b[39;00m \u001b[39mopen\u001b[39;49m(\u001b[39m\"\u001b[39;49m\u001b[39m\"\u001b[39;49m\u001b[39m.\u001b[39;49mjoin( [\u001b[39m\"\u001b[39;49m\u001b[39mdata/\u001b[39;49m\u001b[39m\"\u001b[39;49m,file] ), \u001b[39m'\u001b[39;49m\u001b[39mr\u001b[39;49m\u001b[39m'\u001b[39;49m) \u001b[39mas\u001b[39;00m f:\n\u001b[1;32m      <a href='vscode-notebook-cell://codespaces%2Bscaling-lamp-4p5wqr5wv9wf5x57/workspaces/codespaces-jupyter/notebooks/w8/polynomial_curve_fit.ipynb#W5sdnNjb2RlLXJlbW90ZQ%3D%3D?line=5'>6</a>\u001b[0m         r \u001b[39m=\u001b[39m csv\u001b[39m.\u001b[39mreader(f)\n\u001b[1;32m      <a href='vscode-notebook-cell://codespaces%2Bscaling-lamp-4p5wqr5wv9wf5x57/workspaces/codespaces-jupyter/notebooks/w8/polynomial_curve_fit.ipynb#W5sdnNjb2RlLXJlbW90ZQ%3D%3D?line=6'>7</a>\u001b[0m         data \u001b[39m=\u001b[39m \u001b[39mlist\u001b[39m(r)\n",
      "File \u001b[0;32m~/.local/lib/python3.10/site-packages/IPython/core/interactiveshell.py:286\u001b[0m, in \u001b[0;36m_modified_open\u001b[0;34m(file, *args, **kwargs)\u001b[0m\n\u001b[1;32m    279\u001b[0m \u001b[39mif\u001b[39;00m file \u001b[39min\u001b[39;00m {\u001b[39m0\u001b[39m, \u001b[39m1\u001b[39m, \u001b[39m2\u001b[39m}:\n\u001b[1;32m    280\u001b[0m     \u001b[39mraise\u001b[39;00m \u001b[39mValueError\u001b[39;00m(\n\u001b[1;32m    281\u001b[0m         \u001b[39mf\u001b[39m\u001b[39m\"\u001b[39m\u001b[39mIPython won\u001b[39m\u001b[39m'\u001b[39m\u001b[39mt let you open fd=\u001b[39m\u001b[39m{\u001b[39;00mfile\u001b[39m}\u001b[39;00m\u001b[39m by default \u001b[39m\u001b[39m\"\u001b[39m\n\u001b[1;32m    282\u001b[0m         \u001b[39m\"\u001b[39m\u001b[39mas it is likely to crash IPython. If you know what you are doing, \u001b[39m\u001b[39m\"\u001b[39m\n\u001b[1;32m    283\u001b[0m         \u001b[39m\"\u001b[39m\u001b[39myou can use builtins\u001b[39m\u001b[39m'\u001b[39m\u001b[39m open.\u001b[39m\u001b[39m\"\u001b[39m\n\u001b[1;32m    284\u001b[0m     )\n\u001b[0;32m--> 286\u001b[0m \u001b[39mreturn\u001b[39;00m io_open(file, \u001b[39m*\u001b[39;49margs, \u001b[39m*\u001b[39;49m\u001b[39m*\u001b[39;49mkwargs)\n",
      "\u001b[0;31mFileNotFoundError\u001b[0m: [Errno 2] No such file or directory: 'data/data.csv'"
     ]
    }
   ],
   "source": [
    "#Example of use\n",
    "file = \"data.csv\" #define the filename\n",
    "values = opencsv(file) #imports data into values([],[])\n",
    "a = gaussjord_elim(augment(values,3),4)\n"
   ]
  }
 ],
 "metadata": {
  "kernelspec": {
   "display_name": "Python 3",
   "language": "python",
   "name": "python3"
  },
  "language_info": {
   "codemirror_mode": {
    "name": "ipython",
    "version": 3
   },
   "file_extension": ".py",
   "mimetype": "text/x-python",
   "name": "python",
   "nbconvert_exporter": "python",
   "pygments_lexer": "ipython3",
   "version": "3.10.8"
  }
 },
 "nbformat": 4,
 "nbformat_minor": 2
}
