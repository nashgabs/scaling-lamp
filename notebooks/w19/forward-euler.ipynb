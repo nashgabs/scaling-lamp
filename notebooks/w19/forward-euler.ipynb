{
 "cells": [
  {
   "cell_type": "markdown",
   "metadata": {},
   "source": [
    "# Problem:\n",
    "Implement the explicit Euler method in a programming language (preferably Python), and with it\n",
    "solve the ODE\n",
    "$$\\frac{dy(t)}{dt}=bt-ay(t)$$\n",
    "$a=22$, $b=1$, $y(t:t=0)=1$, $t_{max}=1$\n",
    "Integrate numerically using the values $\\Delta t=0.01,0.1$"
   ]
  },
  {
   "cell_type": "code",
   "execution_count": 19,
   "metadata": {},
   "outputs": [
    {
     "data": {
      "text/plain": [
       "((101,), (101,))"
      ]
     },
     "execution_count": 19,
     "metadata": {},
     "output_type": "execute_result"
    }
   ],
   "source": [
    "import numpy as np\n",
    "step = 0.01\n",
    "t = np.arange(0, 1+step, step)\n",
    "y = np.zeros(t.shape[0])\n",
    "t.shape,y.shape"
   ]
  },
  {
   "cell_type": "code",
   "execution_count": null,
   "metadata": {},
   "outputs": [],
   "source": [
    "for n in range():\n",
    "    "
   ]
  }
 ],
 "metadata": {
  "kernelspec": {
   "display_name": "Python 3",
   "language": "python",
   "name": "python3"
  },
  "language_info": {
   "codemirror_mode": {
    "name": "ipython",
    "version": 3
   },
   "file_extension": ".py",
   "mimetype": "text/x-python",
   "name": "python",
   "nbconvert_exporter": "python",
   "pygments_lexer": "ipython3",
   "version": "3.10.8"
  }
 },
 "nbformat": 4,
 "nbformat_minor": 2
}
