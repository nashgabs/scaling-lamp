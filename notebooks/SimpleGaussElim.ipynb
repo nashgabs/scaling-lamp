{
 "cells": [
  {
   "cell_type": "markdown",
   "id": "81a70ac2",
   "metadata": {},
   "source": [
    "# Gauss Elimination\n",
    "\n",
    "this notebook goes through the process of implementing a simple Gaussian Elimination routine to solve a set of linear equations\n",
    "\n",
    "$$\n",
    "\\mathbf{A}\\mathbf{x} = \\mathbf{b}\n",
    "$$\n",
    "\n",
    "accompanies the lecture at\n",
    "https://mattatlincoln.github.io/teaching/numerical_methods/lecture_2/#/"
   ]
  },
  {
   "cell_type": "code",
   "execution_count": 1,
   "id": "aa88f2f4",
   "metadata": {},
   "outputs": [],
   "source": [
    "# use numpy library and shorted its name in this workbook to np\n",
    "import numpy as np"
   ]
  },
  {
   "cell_type": "code",
   "execution_count": 2,
   "id": "afd5b2d3",
   "metadata": {},
   "outputs": [],
   "source": [
    "# setup an augmented matrix to represent our set of linear equations\n",
    "dimension = 4\n",
    "matdim = (dimension, dimension+1)\n",
    "augmat = np.zeros(matdim)"
   ]
  },
  {
   "cell_type": "code",
   "execution_count": 3,
   "id": "00be7181",
   "metadata": {},
   "outputs": [
    {
     "data": {
      "text/plain": [
       "array([[0., 0., 0., 0., 0.],\n",
       "       [0., 0., 0., 0., 0.],\n",
       "       [0., 0., 0., 0., 0.],\n",
       "       [0., 0., 0., 0., 0.]])"
      ]
     },
     "execution_count": 3,
     "metadata": {},
     "output_type": "execute_result"
    }
   ],
   "source": [
    "augmat"
   ]
  },
  {
   "cell_type": "markdown",
   "id": "1ae1994d",
   "metadata": {},
   "source": [
    "For now we will just fill in the required entries by hand. Make sure you are ok with the indexing.\n",
    "We will use the example in the lecture\n",
    "https://mattatlincoln.github.io/teaching/numerical_methods/lecture_2/#/2"
   ]
  },
  {
   "cell_type": "code",
   "execution_count": 24,
   "id": "61f2d8ce",
   "metadata": {},
   "outputs": [],
   "source": [
    "# first row\n",
    "augmat[0,0] = 2\n",
    "augmat[0,1] = 2\n",
    "augmat[0,2] = 4\n",
    "augmat [0,3] = -2\n",
    "augmat [0,4] = 10.0"
   ]
  },
  {
   "cell_type": "code",
   "execution_count": 25,
   "id": "47d81a44",
   "metadata": {},
   "outputs": [],
   "source": [
    "# second row\n",
    "augmat[1,0] = 1\n",
    "augmat[1,1] = 3\n",
    "augmat[1,2] = 2\n",
    "augmat [1,3] = 4\n",
    "augmat [1,4] = 17.0"
   ]
  },
  {
   "cell_type": "code",
   "execution_count": 26,
   "id": "6f0505b9",
   "metadata": {},
   "outputs": [],
   "source": [
    "# third row\n",
    "augmat[2,0] = 3\n",
    "augmat[2,1] = 1\n",
    "augmat[2,2] = 3\n",
    "augmat [2,3] = 1\n",
    "augmat [2,4] = 18.0"
   ]
  },
  {
   "cell_type": "code",
   "execution_count": 27,
   "id": "20040128",
   "metadata": {},
   "outputs": [],
   "source": [
    "# fourth row\n",
    "augmat[3,0] = 1\n",
    "augmat[3,1] = 3\n",
    "augmat[3,2] = 4\n",
    "augmat[3,3] = 2\n",
    "augmat[3,4] = 27.0"
   ]
  },
  {
   "cell_type": "code",
   "execution_count": 28,
   "id": "53a30668",
   "metadata": {},
   "outputs": [
    {
     "data": {
      "text/plain": [
       "array([[ 2.,  2.,  4., -2., 10.],\n",
       "       [ 1.,  3.,  2.,  4., 17.],\n",
       "       [ 3.,  1.,  3.,  1., 18.],\n",
       "       [ 1.,  3.,  4.,  2., 27.]])"
      ]
     },
     "execution_count": 28,
     "metadata": {},
     "output_type": "execute_result"
    }
   ],
   "source": [
    "# check we've got it right\n",
    "augmat"
   ]
  },
  {
   "cell_type": "markdown",
   "id": "e9940498",
   "metadata": {},
   "source": [
    "## pen and paper gauss elim\n",
    "\n",
    "first row - so row with i = 0 "
   ]
  },
  {
   "cell_type": "code",
   "execution_count": 29,
   "id": "569c459e",
   "metadata": {},
   "outputs": [],
   "source": [
    "# 2nd row i.e pivot row + 1\n",
    "# we need augmat[1,0] to be set to zero after this operation"
   ]
  },
  {
   "cell_type": "code",
   "execution_count": 30,
   "id": "ef735f13",
   "metadata": {},
   "outputs": [
    {
     "name": "stdout",
     "output_type": "stream",
     "text": [
      "1\n",
      "2\n",
      "3\n"
     ]
    }
   ],
   "source": [
    "refrow = 0\n",
    "for row in range(refrow+1, dimension):\n",
    "    print(row)\n",
    "    ratio =  augmat[row,0]/augmat[refrow,0]\n",
    "    for col in range(0, dimension+1):\n",
    "        augmat[row,col] = augmat[row,col] - augmat[refrow,col]*ratio\n",
    "\n",
    "#  old code replaced by 2nd loop\n",
    "#        augmat[row,1] = augmat[row,1] - augmat[refrow,1]*ratio\n",
    "#        augmat[row,2] = augmat[row,2] - augmat[refrow,2]*ratio\n",
    "#        augmat[row,3] = augmat[row,3] - augmat[refrow,3]*ratio\n",
    "#        augmat[row,4] = augmat[row,4] - augmat[refrow,4]*ratio"
   ]
  },
  {
   "cell_type": "code",
   "execution_count": 31,
   "id": "074442c6",
   "metadata": {},
   "outputs": [
    {
     "data": {
      "text/plain": [
       "array([[ 2.,  2.,  4., -2., 10.],\n",
       "       [ 0.,  2.,  0.,  5., 12.],\n",
       "       [ 0., -2., -3.,  4.,  3.],\n",
       "       [ 0.,  2.,  2.,  3., 22.]])"
      ]
     },
     "execution_count": 31,
     "metadata": {},
     "output_type": "execute_result"
    }
   ],
   "source": [
    "augmat"
   ]
  },
  {
   "cell_type": "code",
   "execution_count": 32,
   "id": "83ddc77b",
   "metadata": {},
   "outputs": [],
   "source": [
    "# now do the 2nd row"
   ]
  },
  {
   "cell_type": "code",
   "execution_count": 33,
   "id": "142837c1",
   "metadata": {},
   "outputs": [
    {
     "name": "stdout",
     "output_type": "stream",
     "text": [
      "2\n",
      "3\n"
     ]
    }
   ],
   "source": [
    "refrow = 1\n",
    "for row in range(refrow+1, dimension):\n",
    "    print(row)\n",
    "    ratio =  augmat[row,refrow]/augmat[refrow,refrow]\n",
    "    for col in range(refrow, dimension+1):\n",
    "        augmat[row,col] = augmat[row,col] - augmat[refrow,col]*ratio"
   ]
  },
  {
   "cell_type": "code",
   "execution_count": 34,
   "id": "a4a8a555",
   "metadata": {},
   "outputs": [
    {
     "data": {
      "text/plain": [
       "array([[ 2.,  2.,  4., -2., 10.],\n",
       "       [ 0.,  2.,  0.,  5., 12.],\n",
       "       [ 0.,  0., -3.,  9., 15.],\n",
       "       [ 0.,  0.,  2., -2., 10.]])"
      ]
     },
     "execution_count": 34,
     "metadata": {},
     "output_type": "execute_result"
    }
   ],
   "source": [
    "augmat"
   ]
  },
  {
   "cell_type": "code",
   "execution_count": 35,
   "id": "557db516",
   "metadata": {},
   "outputs": [
    {
     "name": "stdout",
     "output_type": "stream",
     "text": [
      "3\n"
     ]
    }
   ],
   "source": [
    "refrow = 2\n",
    "for row in range(refrow+1, dimension):\n",
    "    print(row)\n",
    "    ratio =  augmat[row,refrow]/augmat[refrow,refrow]\n",
    "    for col in range(refrow, dimension+1):\n",
    "        augmat[row,col] = augmat[row,col] - augmat[refrow,col]*ratio"
   ]
  },
  {
   "cell_type": "code",
   "execution_count": 36,
   "id": "368bf08c",
   "metadata": {},
   "outputs": [
    {
     "data": {
      "text/plain": [
       "array([[ 2.,  2.,  4., -2., 10.],\n",
       "       [ 0.,  2.,  0.,  5., 12.],\n",
       "       [ 0.,  0., -3.,  9., 15.],\n",
       "       [ 0.,  0.,  0.,  4., 20.]])"
      ]
     },
     "execution_count": 36,
     "metadata": {},
     "output_type": "execute_result"
    }
   ],
   "source": [
    "augmat"
   ]
  },
  {
   "cell_type": "markdown",
   "id": "bb175512",
   "metadata": {},
   "source": [
    "but notice that the last few cells are identical except the refrow value increasing. They can be replaced be another loop!"
   ]
  },
  {
   "cell_type": "markdown",
   "id": "1412b942",
   "metadata": {},
   "source": [
    "## Back substitution\n",
    "\n",
    "now we need to get the actual solution vector working backwards through our triangularised set of equations"
   ]
  },
  {
   "cell_type": "code",
   "execution_count": 42,
   "id": "c5b168a4",
   "metadata": {},
   "outputs": [],
   "source": [
    "# create a solution vector\n",
    "x = np.zeros(dimension)\n",
    "\n",
    "# first equation\n",
    "row = dimension-1\n",
    "x[row] = augmat[row, dimension]/augmat[row, dimension-1]"
   ]
  },
  {
   "cell_type": "code",
   "execution_count": 43,
   "id": "70fc8d46",
   "metadata": {},
   "outputs": [
    {
     "data": {
      "text/plain": [
       "array([0., 0., 0., 5.])"
      ]
     },
     "execution_count": 43,
     "metadata": {},
     "output_type": "execute_result"
    }
   ],
   "source": [
    "x"
   ]
  },
  {
   "cell_type": "code",
   "execution_count": 45,
   "id": "0c335a2e",
   "metadata": {},
   "outputs": [],
   "source": [
    "# 2nd equation - we want to subtract the bits we know from prevous x values then solve\n",
    "row = dimension - 2\n",
    "x[row] = (augmat[row,dimension] \n",
    "          -augmat[row,dimension-1]*x[dimension-1])/augmat[row, dimension-2]"
   ]
  },
  {
   "cell_type": "code",
   "execution_count": 46,
   "id": "01c479ba",
   "metadata": {},
   "outputs": [
    {
     "data": {
      "text/plain": [
       "array([ 0.,  0., 10.,  5.])"
      ]
     },
     "execution_count": 46,
     "metadata": {},
     "output_type": "execute_result"
    }
   ],
   "source": [
    "x"
   ]
  },
  {
   "cell_type": "code",
   "execution_count": 49,
   "id": "f45e9087",
   "metadata": {},
   "outputs": [],
   "source": [
    "# 3rd equation\n",
    "row = dimension - 3\n",
    "x[row] = (augmat[row,dimension] \n",
    "          -augmat[row,dimension-1]*x[dimension-1] \n",
    "          -augmat[row,dimension-2]*x[dimension-2])/augmat[row, dimension-3]"
   ]
  },
  {
   "cell_type": "code",
   "execution_count": 50,
   "id": "689c5a77",
   "metadata": {},
   "outputs": [
    {
     "data": {
      "text/plain": [
       "array([ 0. , -6.5, 10. ,  5. ])"
      ]
     },
     "execution_count": 50,
     "metadata": {},
     "output_type": "execute_result"
    }
   ],
   "source": [
    "x"
   ]
  },
  {
   "cell_type": "code",
   "execution_count": 53,
   "id": "33e092e9",
   "metadata": {},
   "outputs": [],
   "source": [
    "# 4th equation\n",
    "row = dimension - 4\n",
    "x[row] = (augmat[row,dimension] \n",
    "          -augmat[row,dimension-1]*x[dimension-1] \n",
    "          -augmat[row,dimension-2]*x[dimension-2]\n",
    "          -augmat[row,dimension-3]*x[dimension-3])/augmat[row, dimension-3]"
   ]
  },
  {
   "cell_type": "code",
   "execution_count": 54,
   "id": "e76915ea",
   "metadata": {},
   "outputs": [
    {
     "data": {
      "text/plain": [
       "array([-3.5, -6.5, 10. ,  5. ])"
      ]
     },
     "execution_count": 54,
     "metadata": {},
     "output_type": "execute_result"
    }
   ],
   "source": [
    "x"
   ]
  },
  {
   "cell_type": "markdown",
   "id": "be24a1ae",
   "metadata": {},
   "source": [
    "Again, notice the pattern in the last few cells - they can be replaced with a loop too!"
   ]
  }
 ],
 "metadata": {
  "kernelspec": {
   "display_name": "Python 3 (ipykernel)",
   "language": "python",
   "name": "python3"
  },
  "language_info": {
   "codemirror_mode": {
    "name": "ipython",
    "version": 3
   },
   "file_extension": ".py",
   "mimetype": "text/x-python",
   "name": "python",
   "nbconvert_exporter": "python",
   "pygments_lexer": "ipython3",
   "version": "3.8.13"
  }
 },
 "nbformat": 4,
 "nbformat_minor": 5
}
