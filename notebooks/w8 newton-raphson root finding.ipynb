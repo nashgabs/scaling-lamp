{
 "cells": [
  {
   "cell_type": "code",
   "execution_count": 195,
   "metadata": {},
   "outputs": [],
   "source": [
    "import numpy as np\n",
    "import random\n",
    "from sympy import *\n",
    "import inspect\n",
    "np.set_printoptions(precision=2)\n",
    "sigma = 0.01 #stopping value\n",
    "h = 0.01    #small-change value"
   ]
  },
  {
   "cell_type": "code",
   "execution_count": 196,
   "metadata": {},
   "outputs": [],
   "source": [
    "f = lambda x:x**2-612\n",
    "def grad(x): #finds the gradient at a single point using 5-point difference\n",
    "    return (f(x - (2 * h)) - 8 * f(x - h) + 8 * f(x + h) - f(x + (2 * h))) / (12 * h)\n",
    "def lambdadif(Lambda):\n",
    "    return inspect.getsourcelines(Lambda)[0][0]\n",
    "def next(x): #finds the next value of x using Newton-Raphson method\n",
    "    return x-(f(x)/grad(x))"
   ]
  },
  {
   "cell_type": "code",
   "execution_count": 197,
   "metadata": {},
   "outputs": [],
   "source": [
    "def rootfinder(): #finds roots from limits either side of \n",
    "    x = random.randint(-100,100)\n",
    "    while(abs(f(x))>sigma):\n",
    "        x = next(x)\n",
    "    return print('The function has halted. Final value of x is given as:\\nx =',x)"
   ]
  },
  {
   "cell_type": "code",
   "execution_count": 198,
   "metadata": {},
   "outputs": [
    {
     "name": "stdout",
     "output_type": "stream",
     "text": [
      "The function has halted. Final value of x is given as:\n",
      "x = 24.73863483027089\n"
     ]
    }
   ],
   "source": [
    "rootfinder()"
   ]
  },
  {
   "cell_type": "code",
   "execution_count": 199,
   "metadata": {},
   "outputs": [
    {
     "name": "stdout",
     "output_type": "stream",
     "text": [
      "The function has halted. Final value of x is given as:\n",
      "x = 0.8654869325467747\n"
     ]
    }
   ],
   "source": [
    "#if we now change our lambda function to x**3 - cos(x) we get\n",
    "f = lambda x:x**3-np.cos(x)\n",
    "rootfinder()"
   ]
  }
 ],
 "metadata": {
  "kernelspec": {
   "display_name": "Python 3",
   "language": "python",
   "name": "python3"
  },
  "language_info": {
   "codemirror_mode": {
    "name": "ipython",
    "version": 3
   },
   "file_extension": ".py",
   "mimetype": "text/x-python",
   "name": "python",
   "nbconvert_exporter": "python",
   "pygments_lexer": "ipython3",
   "version": "3.10.8"
  }
 },
 "nbformat": 4,
 "nbformat_minor": 2
}
