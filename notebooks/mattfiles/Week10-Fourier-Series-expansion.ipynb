{
 "cells": [
  {
   "cell_type": "code",
   "execution_count": null,
   "id": "8c397c45",
   "metadata": {},
   "outputs": [],
   "source": [
    "import numpy as np\n",
    "import matplotlib.pyplot as plt"
   ]
  },
  {
   "cell_type": "code",
   "execution_count": null,
   "id": "45e4d84f",
   "metadata": {},
   "outputs": [],
   "source": [
    "x = np.linspace(-np.pi, np.pi, 20, endpoint=False)\n",
    "dx = x[1]-x[0]\n",
    "x"
   ]
  },
  {
   "cell_type": "code",
   "execution_count": null,
   "id": "7fc6b86a",
   "metadata": {},
   "outputs": [],
   "source": [
    "# create the function to fit \n",
    "fx = np.cos(x) + 0.5*np.cos(2*x) + 0.25*np.sin(3*x)\n",
    "fx"
   ]
  },
  {
   "cell_type": "code",
   "execution_count": null,
   "id": "007b82d1",
   "metadata": {},
   "outputs": [],
   "source": [
    "def get_phi_and_psi(m, x):\n",
    "    \"\"\"returns phim and psim for a given x and m\"\"\"\n",
    "    phim = np.cos(m*np.pi*x/np.pi) \n",
    "    psim = np.sin(m*np.pi*x/np.pi) \n",
    "    return phim, psim"
   ]
  },
  {
   "cell_type": "code",
   "execution_count": null,
   "id": "d1e1a28d",
   "metadata": {},
   "outputs": [],
   "source": [
    "\"\"\"\n",
    "code to gererate first 10 terms of fourier series of fx\n",
    "integration should be made into a function too\n",
    "\"\"\"\n",
    "am = []\n",
    "bm = []\n",
    "for m in range(0,10):\n",
    "    phim, psim = get_phi_and_psi(m, x)\n",
    "    \n",
    "    # cos terms\n",
    "    my_integral = 0\n",
    "    for datapoint in range(0,len(x)):\n",
    "        my_integral += phim[datapoint] * fx[datapoint]\n",
    "    my_integral *= dx/np.pi\n",
    "    am.append(my_integral)\n",
    "    \n",
    "    # sin terms\n",
    "    my_integral = 0\n",
    "    for datapoint in range(0,len(x)):\n",
    "        my_integral += psim[datapoint] * fx[datapoint]\n",
    "    my_integral *= dx/np.pi\n",
    "    bm.append(my_integral)"
   ]
  },
  {
   "cell_type": "code",
   "execution_count": null,
   "id": "7929dc4d",
   "metadata": {},
   "outputs": [],
   "source": [
    "am"
   ]
  },
  {
   "cell_type": "code",
   "execution_count": null,
   "id": "e2b16260",
   "metadata": {},
   "outputs": [],
   "source": [
    "bm"
   ]
  },
  {
   "cell_type": "code",
   "execution_count": null,
   "id": "05c8b9ea",
   "metadata": {},
   "outputs": [],
   "source": [
    "# build our model function to see if it fits the original data\n",
    "def model(am,bm,x):\n",
    "    fx = np.zeros(len(x))\n",
    "    numterms = len(am)\n",
    "    # do a/0 term first\n",
    "    \n",
    "    fx += am[0]/2\n",
    "    \n",
    "    # add the a1, b1 ... aN-1, bN-1, terms\n",
    "    for term in range(1, numterms):\n",
    "        phim, psim = get_phi_and_psi(term, x)\n",
    "        fx += am[term]*phim\n",
    "        fx += bm[term]*psim\n",
    "        \n",
    "    return fx"
   ]
  },
  {
   "cell_type": "code",
   "execution_count": null,
   "id": "f18790b1",
   "metadata": {},
   "outputs": [],
   "source": [
    "model_fx = model(am, bm, x)"
   ]
  },
  {
   "cell_type": "code",
   "execution_count": null,
   "id": "c253d8f3",
   "metadata": {},
   "outputs": [],
   "source": [
    "plt.scatter(x, fx)\n",
    "plt.plot(x, model_fx);"
   ]
  }
 ],
 "metadata": {
  "kernelspec": {
   "display_name": "Python 3 (ipykernel)",
   "language": "python",
   "name": "python3"
  },
  "language_info": {
   "codemirror_mode": {
    "name": "ipython",
    "version": 3
   },
   "file_extension": ".py",
   "mimetype": "text/x-python",
   "name": "python",
   "nbconvert_exporter": "python",
   "pygments_lexer": "ipython3",
   "version": "3.9.7"
  }
 },
 "nbformat": 4,
 "nbformat_minor": 5
}
