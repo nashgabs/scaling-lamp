{
 "cells": [
  {
   "cell_type": "code",
   "execution_count": 1,
   "id": "01b75208",
   "metadata": {},
   "outputs": [],
   "source": [
    "import numpy as np\n",
    "import matplotlib.pyplot as plt"
   ]
  },
  {
   "cell_type": "markdown",
   "id": "3bc1b3b7",
   "metadata": {},
   "source": [
    "# Interpolation\n",
    "\n",
    "coding up examples from\n",
    "https://mattatlincoln.github.io/teaching/numerical_methods/lecture_5/\n",
    "\n",
    "perfrom fits to the data\n",
    "(0,1),(1,3),(3,55)"
   ]
  },
  {
   "cell_type": "code",
   "execution_count": 2,
   "id": "0e11b3c4",
   "metadata": {},
   "outputs": [
    {
     "data": {
      "image/png": "[encoded data removed]",
      "text/plain": [
       "<Figure size 640x480 with 1 Axes>"
      ]
     },
     "metadata": {},
     "output_type": "display_data"
    }
   ],
   "source": [
    "x = np.array([0,1,3])\n",
    "y = np.array([1,3,55])\n",
    "plt.scatter(x,y)\n",
    "plt.plot(x,y);"
   ]
  },
  {
   "cell_type": "code",
   "execution_count": 3,
   "id": "ee23458b",
   "metadata": {},
   "outputs": [
    {
     "data": {
      "text/plain": [
       "2.0"
      ]
     },
     "execution_count": 3,
     "metadata": {},
     "output_type": "execute_result"
    }
   ],
   "source": [
    "def lerp(x,x0,y0,x1,y1):\n",
    "    result = y0 + (x-x0)*(y1-y0)/(x1-x0)\n",
    "    return result\n",
    "\n",
    "output = lerp(0.5, x[0], y[0], x[1], y[1])\n",
    "output"
   ]
  },
  {
   "cell_type": "code",
   "execution_count": 8,
   "id": "0ae773f6",
   "metadata": {},
   "outputs": [
    {
     "ename": "TypeError",
     "evalue": "lerp() missing 4 required positional arguments: 'x0', 'y0', 'x1', and 'y1'",
     "output_type": "error",
     "traceback": [
      "\u001b[0;31m---------------------------------------------------------------------------\u001b[0m",
      "\u001b[0;31mTypeError\u001b[0m                                 Traceback (most recent call last)",
      "\u001b[1;32m/workspaces/codespaces-jupyter/notebooks/mattfiles/Interpolation.ipynb Cell 5\u001b[0m line \u001b[0;36m7\n\u001b[1;32m      <a href='vscode-notebook-cell://codespaces%2Bscaling-lamp-4p5wqr5wv9wf5x57/workspaces/codespaces-jupyter/notebooks/mattfiles/Interpolation.ipynb#W4sdnNjb2RlLXJlbW90ZQ%3D%3D?line=4'>5</a>\u001b[0m modely \u001b[39m=\u001b[39m np\u001b[39m.\u001b[39mzeros(\u001b[39mlen\u001b[39m(modelx))\n\u001b[1;32m      <a href='vscode-notebook-cell://codespaces%2Bscaling-lamp-4p5wqr5wv9wf5x57/workspaces/codespaces-jupyter/notebooks/mattfiles/Interpolation.ipynb#W4sdnNjb2RlLXJlbW90ZQ%3D%3D?line=5'>6</a>\u001b[0m \u001b[39mfor\u001b[39;00m i, myx \u001b[39min\u001b[39;00m \u001b[39menumerate\u001b[39m(modelx):                  \n\u001b[0;32m----> <a href='vscode-notebook-cell://codespaces%2Bscaling-lamp-4p5wqr5wv9wf5x57/workspaces/codespaces-jupyter/notebooks/mattfiles/Interpolation.ipynb#W4sdnNjb2RlLXJlbW90ZQ%3D%3D?line=6'>7</a>\u001b[0m     modelx \u001b[39m=\u001b[39m lerp(x)\n",
      "\u001b[0;31mTypeError\u001b[0m: lerp() missing 4 required positional arguments: 'x0', 'y0', 'x1', and 'y1'"
     ]
    }
   ],
   "source": [
    "# create a set of x values covering the data points\n",
    "modelx = np.linspace(x[0], x[2])\n",
    "mylower = 0 \n",
    "myupper = 1\n",
    "modely = np.zeros(len(modelx))\n",
    "for i, myx in enumerate(modelx):                  \n",
    "    modelx = lerp(x)"
   ]
  },
  {
   "cell_type": "markdown",
   "id": "36656916",
   "metadata": {},
   "source": [
    "# Quadratic interpolation\n",
    "\n",
    "we want a quadratic function that goes through all three data points.\n",
    "\n",
    "In each case $a_0 + a_1 x_i + a_2 x_i^2 = y_i$\n",
    "\n",
    "$$\n",
    "\\begin{bmatrix}\n",
    "        1   & x_0 & x_0^2  \\\\\n",
    "        1   & x_1 & x_1^2   \\\\\n",
    "        1   & x_2 & x_2^2 \n",
    "\\end{bmatrix}\n",
    "\\begin{bmatrix}\n",
    "a_0\\\\\n",
    "a_1\\\\\n",
    "a_2\n",
    "\\end{bmatrix}\n",
    "= \n",
    "\\begin{bmatrix}\n",
    "y_0\\\\\n",
    "y_1\\\\\n",
    "y_2\n",
    "\\end{bmatrix}\n",
    "$$"
   ]
  },
  {
   "cell_type": "code",
   "execution_count": null,
   "id": "2789be40",
   "metadata": {},
   "outputs": [],
   "source": [
    "A = np.zeros((3,3))"
   ]
  },
  {
   "cell_type": "code",
   "execution_count": null,
   "id": "8ed6d70c",
   "metadata": {},
   "outputs": [
    {
     "data": {
      "text/plain": [
       "array([[1., 0., 0.],\n",
       "       [1., 1., 1.],\n",
       "       [1., 3., 9.]])"
      ]
     },
     "execution_count": 18,
     "metadata": {},
     "output_type": "execute_result"
    }
   ],
   "source": [
    "for i in range(3):\n",
    "    A[i,0] = 1\n",
    "    A[i,1] = x[i]\n",
    "    A[i,2] = x[i]**2\n",
    "A"
   ]
  },
  {
   "cell_type": "code",
   "execution_count": null,
   "id": "e6b7033d",
   "metadata": {},
   "outputs": [],
   "source": [
    "b = np.array([1,3,55])"
   ]
  },
  {
   "cell_type": "code",
   "execution_count": null,
   "id": "32d8aacc",
   "metadata": {},
   "outputs": [],
   "source": [
    "def gaussElim(A,b):\n",
    "    \"\"\"\n",
    "    Routine to solve problem Ax = b using gauss elim.\n",
    "    A is an NxN matrix, b a column vector of size N\n",
    "    returns x vector of dimentsion N\n",
    "    \"\"\"\n",
    "    # setup our augmented matrix by copying A and b\n",
    "    N = A.shape[0]\n",
    "    augmat = np.zeros((N, N+1))\n",
    "    augmat[:,:N] = np.copy(A)\n",
    "    augmat[:,N] = np.copy(b)\n",
    "    \n",
    "    for pivot in range(0,N):\n",
    "        refrow = pivot\n",
    "        for row in range(refrow+1, N):\n",
    "            ratio =  augmat[row,refrow]/augmat[refrow,refrow]\n",
    "            for col in range(refrow, N+1):\n",
    "                augmat[row,col] = augmat[row,col] - augmat[refrow,col]*ratio\n",
    "    #print(augmat)\n",
    "    # back elimination\n",
    "    x = np.zeros(N)\n",
    "    for row in range(N-1,-1,-1):\n",
    "        x[row] = augmat[row,N] \n",
    "        for col in range(row+1, N):\n",
    "            x[row] -= augmat[row,col]*x[col] \n",
    "        x[row] = x[row]/augmat[row,row]       \n",
    "    #print(x)\n",
    "    return x"
   ]
  },
  {
   "cell_type": "code",
   "execution_count": null,
   "id": "52aa33a8",
   "metadata": {},
   "outputs": [
    {
     "data": {
      "text/plain": [
       "array([ 1., -6.,  8.])"
      ]
     },
     "execution_count": 22,
     "metadata": {},
     "output_type": "execute_result"
    }
   ],
   "source": [
    "a = gaussElim(A, b)\n",
    "a"
   ]
  },
  {
   "cell_type": "code",
   "execution_count": null,
   "id": "5c7cbe95",
   "metadata": {},
   "outputs": [],
   "source": [
    "modely = np.zeros(len(modelx))\n",
    "\n",
    "for i in range(len(modelx)):\n",
    "    modely[i] = a[0] + a[1]*modelx[i] + a[2]*modelx[i]**2\n",
    "modely;"
   ]
  },
  {
   "cell_type": "code",
   "execution_count": null,
   "id": "2bf83cdc",
   "metadata": {},
   "outputs": [
    {
     "data": {
      "text/plain": [
       "[<matplotlib.lines.Line2D at 0x1c870febc40>]"
      ]
     },
     "execution_count": 32,
     "metadata": {},
     "output_type": "execute_result"
    },
    {
     "data": {
      "image/png": "[encoded data removed]",
      "text/plain": [
       "<Figure size 432x288 with 1 Axes>"
      ]
     },
     "metadata": {
      "needs_background": "light"
     },
     "output_type": "display_data"
    }
   ],
   "source": [
    "plt.scatter(x,y)\n",
    "plt.plot(x,y)\n",
    "plt.plot(modelx, modely)"
   ]
  },
  {
   "cell_type": "code",
   "execution_count": null,
   "id": "6d46689a",
   "metadata": {},
   "outputs": [],
   "source": [
    "def lagrangePoly(myx,x,y):\n",
    "    result = 0\n",
    "    for i in range(len(x)):\n",
    "        presult = 1\n",
    "        for j in range(len(x)):\n",
    "            if (j-i)**2 < 1:\n",
    "                pass\n",
    "            else:\n",
    "                presult *= (myx- x[j])/(x[i]-x[j])\n",
    "        result += presult*y[i]\n",
    "    return result"
   ]
  },
  {
   "cell_type": "code",
   "execution_count": null,
   "id": "d1b71a62",
   "metadata": {},
   "outputs": [
    {
     "data": {
      "text/plain": [
       "3.0"
      ]
     },
     "execution_count": 51,
     "metadata": {},
     "output_type": "execute_result"
    }
   ],
   "source": [
    "lagrangePoly(1,x,y)"
   ]
  },
  {
   "cell_type": "code",
   "execution_count": null,
   "id": "1a7496ca",
   "metadata": {},
   "outputs": [
    {
     "data": {
      "image/png": "[encoded data removed]",
      "text/plain": [
       "<Figure size 432x288 with 1 Axes>"
      ]
     },
     "metadata": {
      "needs_background": "light"
     },
     "output_type": "display_data"
    }
   ],
   "source": [
    "plt.plot(modelx, lagrangePoly(modelx, x, y) )\n",
    "plt.plot(modelx, modely);"
   ]
  },
  {
   "cell_type": "code",
   "execution_count": null,
   "id": "ce092527",
   "metadata": {},
   "outputs": [],
   "source": []
  }
 ],
 "metadata": {
  "kernelspec": {
   "display_name": "Python 3 (ipykernel)",
   "language": "python",
   "name": "python3"
  },
  "language_info": {
   "codemirror_mode": {
    "name": "ipython",
    "version": 3
   },
   "file_extension": ".py",
   "mimetype": "text/x-python",
   "name": "python",
   "nbconvert_exporter": "python",
   "pygments_lexer": "ipython3",
   "version": "3.10.8"
  }
 },
 "nbformat": 4,
 "nbformat_minor": 5
}
