{
 "cells": [
  {
   "cell_type": "code",
   "execution_count": 100,
   "metadata": {},
   "outputs": [],
   "source": [
    "import numpy as np\n",
    "import csv\n",
    "import matplotlib.pyplot as plt\n",
    "np.set_printoptions(precision=2)"
   ]
  },
  {
   "cell_type": "code",
   "execution_count": 101,
   "metadata": {},
   "outputs": [],
   "source": [
    "'''Question 1'''\n",
    "# augment matrix and solve by gauss elimination\n",
    "\n",
    "#define function to read csv data into an array given a filename\n",
    "def opencsv(file):\n",
    "    with open(\"\".join( [\"data/\",file] ), 'r') as f:\n",
    "        r = csv.reader(f)\n",
    "        data = list(r)\n",
    "    #return array of values\n",
    "    return np.array(data,dtype=float)"
   ]
  },
  {
   "cell_type": "code",
   "execution_count": 102,
   "metadata": {},
   "outputs": [],
   "source": [
    "# function to find the sum of x^n*y^n for an array\n",
    "def sum_xy( x,n1,y,n2 ): #takes an x-value array, y-value array and two indices\n",
    "    sum = 0\n",
    "    for i in range( 0,x.shape[0] ):\n",
    "        sum += ( x[i]**n1)*(y[i]**n2 )\n",
    "    return sum"
   ]
  },
  {
   "cell_type": "code",
   "execution_count": 103,
   "metadata": {},
   "outputs": [],
   "source": [
    "# takes an array of x and y values and performs least squares to a polynomial of degree N\n",
    "# returns an augmented matrix\n",
    "def fit_poly( values,N ):\n",
    "    M = np.zeros( [ N,N+1 ] ) #creates an array of zeros\n",
    "    for diag in range( 0,N+2 ): #for each +ve diagonal set (0 to height+2)\n",
    "        for htl in range( 0,N ): #for the horizontal (0 to height)                 /X/      \n",
    "            for vtl in range( 0,N ): #for the vertical (0 to width)               /X/\n",
    "                if htl+vtl == diag: #if (htl,vtl) lies on the +ve diagonal e.g  /X/\n",
    "                    M[ vtl,htl ] = sum_xy(values[:,0 ], diag, np.ones(values.shape[0]), 0) #set the element to sum of x^{diag}\n",
    "\n",
    "    for i in range(0, N): #for the augment\n",
    "        M[i,3] = sum_xy(values[:,0], i, values[:,1],1)\n",
    "    return M"
   ]
  },
  {
   "cell_type": "code",
   "execution_count": 104,
   "metadata": {},
   "outputs": [],
   "source": [
    "\n",
    "# gauss-jordan elimination function\n",
    "def gaussjord_elim( M,N ): #where M gives a matrix with N unknown variables\n",
    "    matdim = ( N,N+1 )\n",
    "    prow = 0 #pivot row\n",
    "    x = np.zeros(N) #array of size N\n",
    "    \n",
    "    for prow in range( 0,N ): #for each pivot row\n",
    "        for row in range( prow+1,N ): #for each row underneath the pivot row\n",
    "            if row != prow:\n",
    "                ratio = M[ row,prow ] / M[ prow,prow ] #find the ratio needed to gain 0 in the first position\n",
    "                for col in range( prow,N+1 ): #for each element in current row\n",
    "                    M[ row,col ] -= ratio * M[ prow,col ] #M'_ij = M_ij-(R*M_kj) where N > j > k and N is the width of M\n",
    "                \n",
    "    for i in reversed(range( 0,N )): #for each element in x-vector, starting with the last\n",
    "        for j in reversed(range( 0,N )): #for each row\n",
    "            x[i] = (1/M[ i,i ]) * M[ i,N ]\n",
    "    return x\n"
   ]
  },
  {
   "cell_type": "code",
   "execution_count": 105,
   "metadata": {},
   "outputs": [
    {
     "ename": "IndexError",
     "evalue": "index 4 is out of bounds for axis 1 with size 4",
     "output_type": "error",
     "traceback": [
      "\u001b[0;31m---------------------------------------------------------------------------\u001b[0m",
      "\u001b[0;31mIndexError\u001b[0m                                Traceback (most recent call last)",
      "\u001b[1;32m/workspaces/codespaces-jupyter/notebooks/w8 polynomial curve fit.ipynb Cell 6\u001b[0m line \u001b[0;36m4\n\u001b[1;32m      <a href='vscode-notebook-cell://codespaces%2Bscaling-lamp-4p5wqr5wv9wf5x57/workspaces/codespaces-jupyter/notebooks/w8%20polynomial%20curve%20fit.ipynb#W5sdnNjb2RlLXJlbW90ZQ%3D%3D?line=0'>1</a>\u001b[0m file \u001b[39m=\u001b[39m \u001b[39m\"\u001b[39m\u001b[39mdata_w8.csv\u001b[39m\u001b[39m\"\u001b[39m \u001b[39m#define the filename\u001b[39;00m\n\u001b[1;32m      <a href='vscode-notebook-cell://codespaces%2Bscaling-lamp-4p5wqr5wv9wf5x57/workspaces/codespaces-jupyter/notebooks/w8%20polynomial%20curve%20fit.ipynb#W5sdnNjb2RlLXJlbW90ZQ%3D%3D?line=1'>2</a>\u001b[0m np\u001b[39m.\u001b[39mvalues \u001b[39m=\u001b[39m opencsv(file) \u001b[39m#imports data into values([],[])\u001b[39;00m\n\u001b[0;32m----> <a href='vscode-notebook-cell://codespaces%2Bscaling-lamp-4p5wqr5wv9wf5x57/workspaces/codespaces-jupyter/notebooks/w8%20polynomial%20curve%20fit.ipynb#W5sdnNjb2RlLXJlbW90ZQ%3D%3D?line=3'>4</a>\u001b[0m gaussjord_elim( fit_poly( values,\u001b[39m3\u001b[39;49m ), \u001b[39m4\u001b[39;49m )\n",
      "\u001b[1;32m/workspaces/codespaces-jupyter/notebooks/w8 polynomial curve fit.ipynb Cell 6\u001b[0m line \u001b[0;36m1\n\u001b[1;32m     <a href='vscode-notebook-cell://codespaces%2Bscaling-lamp-4p5wqr5wv9wf5x57/workspaces/codespaces-jupyter/notebooks/w8%20polynomial%20curve%20fit.ipynb#W5sdnNjb2RlLXJlbW90ZQ%3D%3D?line=9'>10</a>\u001b[0m             ratio \u001b[39m=\u001b[39m M[ row,prow ] \u001b[39m/\u001b[39m M[ prow,prow ] \u001b[39m#find the ratio needed to gain 0 in the first position\u001b[39;00m\n\u001b[1;32m     <a href='vscode-notebook-cell://codespaces%2Bscaling-lamp-4p5wqr5wv9wf5x57/workspaces/codespaces-jupyter/notebooks/w8%20polynomial%20curve%20fit.ipynb#W5sdnNjb2RlLXJlbW90ZQ%3D%3D?line=10'>11</a>\u001b[0m             \u001b[39mfor\u001b[39;00m col \u001b[39min\u001b[39;00m \u001b[39mrange\u001b[39m( prow,N\u001b[39m+\u001b[39m\u001b[39m1\u001b[39m ): \u001b[39m#for each element in current row\u001b[39;00m\n\u001b[0;32m---> <a href='vscode-notebook-cell://codespaces%2Bscaling-lamp-4p5wqr5wv9wf5x57/workspaces/codespaces-jupyter/notebooks/w8%20polynomial%20curve%20fit.ipynb#W5sdnNjb2RlLXJlbW90ZQ%3D%3D?line=11'>12</a>\u001b[0m                 M[ row,col ] \u001b[39m-\u001b[39m\u001b[39m=\u001b[39m ratio \u001b[39m*\u001b[39m M[ prow,col ] \u001b[39m#M'_ij = M_ij-(R*M_kj) where N > j > k and N is the width of M\u001b[39;00m\n\u001b[1;32m     <a href='vscode-notebook-cell://codespaces%2Bscaling-lamp-4p5wqr5wv9wf5x57/workspaces/codespaces-jupyter/notebooks/w8%20polynomial%20curve%20fit.ipynb#W5sdnNjb2RlLXJlbW90ZQ%3D%3D?line=13'>14</a>\u001b[0m \u001b[39mfor\u001b[39;00m i \u001b[39min\u001b[39;00m \u001b[39mreversed\u001b[39m(\u001b[39mrange\u001b[39m( \u001b[39m0\u001b[39m,N )): \u001b[39m#for each element in x-vector, starting with the last\u001b[39;00m\n\u001b[1;32m     <a href='vscode-notebook-cell://codespaces%2Bscaling-lamp-4p5wqr5wv9wf5x57/workspaces/codespaces-jupyter/notebooks/w8%20polynomial%20curve%20fit.ipynb#W5sdnNjb2RlLXJlbW90ZQ%3D%3D?line=14'>15</a>\u001b[0m     \u001b[39mfor\u001b[39;00m j \u001b[39min\u001b[39;00m \u001b[39mreversed\u001b[39m(\u001b[39mrange\u001b[39m( \u001b[39m0\u001b[39m,N )): \u001b[39m#for each row\u001b[39;00m\n",
      "\u001b[0;31mIndexError\u001b[0m: index 4 is out of bounds for axis 1 with size 4"
     ]
    }
   ],
   "source": [
    "file = \"data_w8.csv\" #define the filename\n",
    "np.values = opencsv(file) #imports data into values([],[])\n",
    "\n",
    "gaussjord_elim( fit_poly( values,3 ), 4 )"
   ]
  }
 ],
 "metadata": {
  "kernelspec": {
   "display_name": "Python 3",
   "language": "python",
   "name": "python3"
  },
  "language_info": {
   "codemirror_mode": {
    "name": "ipython",
    "version": 3
   },
   "file_extension": ".py",
   "mimetype": "text/x-python",
   "name": "python",
   "nbconvert_exporter": "python",
   "pygments_lexer": "ipython3",
   "version": "3.10.8"
  }
 },
 "nbformat": 4,
 "nbformat_minor": 2
}
