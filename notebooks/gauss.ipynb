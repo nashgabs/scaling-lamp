{
 "cells": [
  {
   "cell_type": "code",
   "execution_count": 1,
   "id": "4db7f45f-20ff-4930-9fbc-de24ad2905e6",
   "metadata": {},
   "outputs": [],
   "source": [
    "import numpy as np"
   ]
  },
  {
   "cell_type": "code",
   "execution_count": 2,
   "id": "78853b19-95ec-4a14-bb42-dd9d3b529175",
   "metadata": {},
   "outputs": [],
   "source": [
    "dimension = 4\n",
    "matdim = (dimension, dimension+1)\n",
    "augmat = np.zeros(matdim)"
   ]
  },
  {
   "cell_type": "code",
   "execution_count": 3,
   "id": "e930e86e-292a-4292-8174-91dbe6700da9",
   "metadata": {},
   "outputs": [
    {
     "data": {
      "text/plain": [
       "(4, 5)"
      ]
     },
     "execution_count": 3,
     "metadata": {},
     "output_type": "execute_result"
    }
   ],
   "source": [
    "matdim"
   ]
  },
  {
   "cell_type": "code",
   "execution_count": 4,
   "id": "f932559a-9b6c-422f-bf73-0e3000e7d1b9",
   "metadata": {},
   "outputs": [
    {
     "data": {
      "text/plain": [
       "array([[0., 0., 0., 0., 0.],\n",
       "       [0., 0., 0., 0., 0.],\n",
       "       [0., 0., 0., 0., 0.],\n",
       "       [0., 0., 0., 0., 0.]])"
      ]
     },
     "execution_count": 4,
     "metadata": {},
     "output_type": "execute_result"
    }
   ],
   "source": [
    "augmat"
   ]
  },
  {
   "cell_type": "code",
   "execution_count": 6,
   "id": "f7b63274-55d4-4c45-8802-0d3ef44f1ec6",
   "metadata": {},
   "outputs": [],
   "source": [
    "#first row\n",
    "augmat[0,0] = 2\n",
    "augmat[0,1] = 2\n",
    "augmat[0,2] = 4\n",
    "augmat[0,3] = -2\n",
    "augmat[0,4] = 10"
   ]
  },
  {
   "cell_type": "code",
   "execution_count": 7,
   "id": "7ca3bea4-8809-4e36-ae2a-ce269826603f",
   "metadata": {},
   "outputs": [],
   "source": [
    "# second row\n",
    "augmat[1,0] = 1\n",
    "augmat[1,1] = 3\n",
    "augmat[1,2] = 2\n",
    "augmat [1,3] = 4\n",
    "augmat [1,4] = 17.0"
   ]
  },
  {
   "cell_type": "code",
   "execution_count": 8,
   "id": "ab3635d8-a931-48cd-b44c-e0389a8a2c2c",
   "metadata": {},
   "outputs": [],
   "source": [
    "# third row\n",
    "augmat[2,0] = 3\n",
    "augmat[2,1] = 1\n",
    "augmat[2,2] = 3\n",
    "augmat [2,3] = 1\n",
    "augmat [2,4] = 18.0"
   ]
  },
  {
   "cell_type": "code",
   "execution_count": 9,
   "id": "d5cd465e-d118-4dc5-bf7b-bc1390cf53c3",
   "metadata": {},
   "outputs": [],
   "source": [
    "# fourth row\n",
    "augmat[3,0] = 1\n",
    "augmat[3,1] = 3\n",
    "augmat[3,2] = 4\n",
    "augmat[3,3] = 2\n",
    "augmat[3,4] = 27.0"
   ]
  },
  {
   "cell_type": "code",
   "execution_count": 10,
   "id": "c5655fba-267a-41b0-871e-a09ea1a548bc",
   "metadata": {},
   "outputs": [
    {
     "data": {
      "text/plain": [
       "array([[ 2.,  2.,  4., -2., 10.],\n",
       "       [ 1.,  3.,  2.,  4., 17.],\n",
       "       [ 3.,  1.,  3.,  1., 18.],\n",
       "       [ 1.,  3.,  4.,  2., 27.]])"
      ]
     },
     "execution_count": 10,
     "metadata": {},
     "output_type": "execute_result"
    }
   ],
   "source": [
    "augmat"
   ]
  },
  {
   "cell_type": "code",
   "execution_count": 23,
   "id": "c744f573-9b2c-472a-9189-32c087d69d38",
   "metadata": {},
   "outputs": [
    {
     "name": "stdout",
     "output_type": "stream",
     "text": [
      "Row number 1.0 :\n",
      "Row number 3.0 :\n",
      "Row number 1.0 :\n"
     ]
    }
   ],
   "source": [
    "pickrow = 0 #pick row 0 to begin\n",
    "for row in range(pickrow+1, dimension):\n",
    "    print('Row number',augmat[row,0],':')"
   ]
  }
 ],
 "metadata": {
  "kernelspec": {
   "display_name": "Python 3 (ipykernel)",
   "language": "python",
   "name": "python3"
  },
  "language_info": {
   "codemirror_mode": {
    "name": "ipython",
    "version": 3
   },
   "file_extension": ".py",
   "mimetype": "text/x-python",
   "name": "python",
   "nbconvert_exporter": "python",
   "pygments_lexer": "ipython3",
   "version": "3.10.8"
  }
 },
 "nbformat": 4,
 "nbformat_minor": 5
}
