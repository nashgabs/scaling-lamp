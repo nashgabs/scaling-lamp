{
 "cells": [
  {
   "cell_type": "code",
   "execution_count": null,
   "metadata": {},
   "outputs": [],
   "source": [
    "import numpy as np"
   ]
  },
  {
   "cell_type": "code",
   "execution_count": 1,
   "metadata": {},
   "outputs": [],
   "source": [
    "i = 10\n",
    "def y(i): #y-function\n",
    "    return (2*i) + 0.3\n",
    "\n",
    "def sig_x(i,n): #sum of x^n\n",
    "    sum = 0\n",
    "    for x in range(1,i+1):\n",
    "        sum += x**n\n",
    "    return sum\n",
    "\n",
    "\n",
    "def sig_y(i,n): #sum of y^n\n",
    "    sum = 0\n",
    "    for x in range(1,i+1):\n",
    "        sum += y(x)**n\n",
    "    return sum\n",
    "\n",
    "\n",
    "def sig_xy(i,n): #sum of (x^n)*y\n",
    "    sum = 0\n",
    "    for x in range(1,i+1):\n",
    "        sum += y(x) * x**n\n",
    "    return sum\n",
    "\n",
    "\n",
    "def mean_y(i): #mean of y\n",
    "    sum = 0\n",
    "    for x in range(1,i+1):\n",
    "        sum += y(x)\n",
    "    return sum/i\n",
    "\n",
    "\n",
    "def mean_x(i): #mean of x\n",
    "    sum = 0\n",
    "    for x in range(1,i+1):\n",
    "        sum += x;\n",
    "    return sum/i\n",
    "\n",
    "\n",
    "#coefficient 1\n",
    "def a1(i):\n",
    "    return ((i*sig_xy(i,1))-(sig_x(i,1)*sig_y(i,1)))/((i*sig_x(i,2))-(sig_x(i,1))**2)\n",
    "\n",
    "\n",
    "#coefficient 0\n",
    "def a0(i):\n",
    "    return mean_y(i)-(a1(i)*mean_x(i))\n",
    "\n",
    "\n",
    "#correlation of x and y\n",
    "def r(i):\n",
    "    return ((i*sig_xy(i,1))-(sig_x(i,1)*sig_y(i,1)))/(np.sqrt((i*sig_x(i,2))-(sig_x(i,1))**2)*np.sqrt((i*sig_y(i,2))-(sig_y(i,1))**2))"
   ]
  }
 ],
 "metadata": {
  "kernelspec": {
   "display_name": "Python 3",
   "language": "python",
   "name": "python3"
  },
  "language_info": {
   "codemirror_mode": {
    "name": "ipython",
    "version": 3
   },
   "file_extension": ".py",
   "mimetype": "text/x-python",
   "name": "python",
   "nbconvert_exporter": "python",
   "pygments_lexer": "ipython3",
   "version": "3.10.8"
  }
 },
 "nbformat": 4,
 "nbformat_minor": 2
}
