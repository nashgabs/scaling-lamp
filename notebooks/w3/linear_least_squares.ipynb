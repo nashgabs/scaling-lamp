{
 "cells": [
  {
   "cell_type": "code",
   "execution_count": 107,
   "id": "ef1dda50-c9cd-436a-993d-81e920b367d3",
   "metadata": {},
   "outputs": [],
   "source": [
    "import numpy as np\n",
    "np.set_printoptions(precision=2)"
   ]
  },
  {
   "cell_type": "code",
   "execution_count": null,
   "id": "d54b60f4-35f4-4fb0-87ea-6bca0be093de",
   "metadata": {},
   "outputs": [],
   "source": [
    "\"\"\" Exercises \"\"\"\n",
    "i = 10\n",
    "def y(i): #y-function\n",
    "    return (2*i) + 0.3"
   ]
  },
  {
   "cell_type": "code",
   "execution_count": null,
   "id": "f9b9b648-4a39-461b-9081-b65345a001cc",
   "metadata": {},
   "outputs": [],
   "source": [
    "def sig_x(i): #sum of x\n",
    "    sum = 0\n",
    "    for x in range(1,i+1):\n",
    "        sum += x\n",
    "    return sum\n",
    "sig_x(i)"
   ]
  },
  {
   "cell_type": "code",
   "execution_count": 109,
   "id": "fb039213-1560-4b76-898b-996e02108dde",
   "metadata": {},
   "outputs": [
    {
     "data": {
      "text/plain": [
       "385"
      ]
     },
     "execution_count": 109,
     "metadata": {},
     "output_type": "execute_result"
    }
   ],
   "source": [
    "def sig_x_square(i): #sum of x^2\n",
    "    sum = 0\n",
    "    for x in range(1,i+1):\n",
    "        sum += x**2\n",
    "    return sum\n",
    "sig_x_square(i)"
   ]
  },
  {
   "cell_type": "code",
   "execution_count": 118,
   "id": "dbb1b11c-2bcb-407b-8b3b-fdc472027c1c",
   "metadata": {},
   "outputs": [
    {
     "data": {
      "text/plain": [
       "1606.9"
      ]
     },
     "execution_count": 118,
     "metadata": {},
     "output_type": "execute_result"
    }
   ],
   "source": [
    "def sig_y_square(i): #sum of y^2\n",
    "    sum = 0\n",
    "    for x in range(1,i+1):\n",
    "        sum += y(x)**2\n",
    "    return sum\n",
    "sig_y_square(i)"
   ]
  },
  {
   "cell_type": "code",
   "execution_count": 110,
   "id": "8268f6f8-98b6-42dc-a76a-3ad608a6bd14",
   "metadata": {},
   "outputs": [
    {
     "data": {
      "text/plain": [
       "112.99999999999999"
      ]
     },
     "execution_count": 110,
     "metadata": {},
     "output_type": "execute_result"
    }
   ],
   "source": [
    "def sig_y(i): #sum of y\n",
    "    sum = 0\n",
    "    for x in range(1,i+1):\n",
    "        sum += y(x)\n",
    "    return sum\n",
    "sig_y(i)"
   ]
  },
  {
   "cell_type": "code",
   "execution_count": 111,
   "id": "7e1aa178-e3de-4e57-951c-731b68742a79",
   "metadata": {},
   "outputs": [
    {
     "data": {
      "text/plain": [
       "786.5000000000001"
      ]
     },
     "execution_count": 111,
     "metadata": {},
     "output_type": "execute_result"
    }
   ],
   "source": [
    "def sig_xy(i): #sum of x*y\n",
    "    sum = 0\n",
    "    for x in range(1,i+1):\n",
    "        sum += y(x) * x\n",
    "    return sum\n",
    "sig_xy(i)"
   ]
  },
  {
   "cell_type": "code",
   "execution_count": 112,
   "id": "e6dc0073-20ce-4619-8919-8a03333f99d1",
   "metadata": {},
   "outputs": [
    {
     "data": {
      "text/plain": [
       "11.3"
      ]
     },
     "execution_count": 112,
     "metadata": {},
     "output_type": "execute_result"
    }
   ],
   "source": [
    "def mean_y(i): #mean of y\n",
    "    sum = 0\n",
    "    for x in range(1,i+1):\n",
    "        sum += y(x)\n",
    "    return sum/i\n",
    "round(mean_y(i),3)"
   ]
  },
  {
   "cell_type": "code",
   "execution_count": 113,
   "id": "07d81752-4539-4a88-a230-5ff3232a107f",
   "metadata": {},
   "outputs": [
    {
     "data": {
      "text/plain": [
       "5.5"
      ]
     },
     "execution_count": 113,
     "metadata": {},
     "output_type": "execute_result"
    }
   ],
   "source": [
    "def mean_x(i): #mean of x\n",
    "    sum = 0\n",
    "    for x in range(1,i+1):\n",
    "        sum += x;\n",
    "    return sum/i\n",
    "round(mean_x(i),3)"
   ]
  },
  {
   "cell_type": "code",
   "execution_count": 121,
   "id": "46a0aa58-4ffe-4532-87ee-a31ba406c693",
   "metadata": {},
   "outputs": [
    {
     "data": {
      "text/plain": [
       "2.0"
      ]
     },
     "execution_count": 121,
     "metadata": {},
     "output_type": "execute_result"
    }
   ],
   "source": [
    "#coefficient 1\n",
    "a1 = ((i*sig_xy(i))-(sig_x(i)*sig_y(i)))/((i*sig_x_square(i))-(sig_x(i))**2)\n",
    "round(a1,3)"
   ]
  },
  {
   "cell_type": "code",
   "execution_count": 122,
   "id": "a8ad0baf-83dd-4b1c-bbb9-3f0d915d2359",
   "metadata": {},
   "outputs": [
    {
     "data": {
      "text/plain": [
       "0.3"
      ]
     },
     "execution_count": 122,
     "metadata": {},
     "output_type": "execute_result"
    }
   ],
   "source": [
    "#coefficient 0\n",
    "a0 = mean_y(i)-(a1*mean_x(i))\n",
    "round(a0,3)"
   ]
  },
  {
   "cell_type": "code",
   "execution_count": 123,
   "id": "8ddd999a-2128-41c4-83c9-7097722a8f64",
   "metadata": {},
   "outputs": [
    {
     "data": {
      "text/plain": [
       "1.0"
      ]
     },
     "execution_count": 123,
     "metadata": {},
     "output_type": "execute_result"
    }
   ],
   "source": [
    "#correlation of x and y\n",
    "r = ((i*sig_xy(i))-(sig_x(i)*sig_y(i)))/(np.sqrt((i*sig_x_square(i))-(sig_x(i))**2)*np.sqrt((i*sig_y_square(i))-(sig_y(i))**2))\n",
    "round(r,3)"
   ]
  }
 ],
 "metadata": {
  "kernelspec": {
   "display_name": "Python 3 (ipykernel)",
   "language": "python",
   "name": "python3"
  },
  "language_info": {
   "codemirror_mode": {
    "name": "ipython",
    "version": 3
   },
   "file_extension": ".py",
   "mimetype": "text/x-python",
   "name": "python",
   "nbconvert_exporter": "python",
   "pygments_lexer": "ipython3",
   "version": "3.10.8"
  }
 },
 "nbformat": 4,
 "nbformat_minor": 5
}
