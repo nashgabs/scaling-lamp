{
 "cells": [
  {
   "cell_type": "code",
   "execution_count": 17,
   "id": "4db7f45f-20ff-4930-9fbc-de24ad2905e6",
   "metadata": {},
   "outputs": [],
   "source": [
    "import numpy as np\n",
    "np.set_printoptions(precision=2)"
   ]
  },
  {
   "cell_type": "code",
   "execution_count": 18,
   "id": "78853b19-95ec-4a14-bb42-dd9d3b529175",
   "metadata": {},
   "outputs": [],
   "source": [
    "N = 4\n",
    "matdim = (N, N+1)\n",
    "augmat = np.array([[2,2,4,-2,10],[1,3,2,4,17],[3,1,3,1,18],[1,3,4,2,27]])"
   ]
  },
  {
   "cell_type": "code",
   "execution_count": 19,
   "id": "e930e86e-292a-4292-8174-91dbe6700da9",
   "metadata": {},
   "outputs": [
    {
     "data": {
      "text/plain": [
       "(4, 5)"
      ]
     },
     "execution_count": 19,
     "metadata": {},
     "output_type": "execute_result"
    }
   ],
   "source": [
    "matdim"
   ]
  },
  {
   "cell_type": "code",
   "execution_count": 20,
   "id": "f932559a-9b6c-422f-bf73-0e3000e7d1b9",
   "metadata": {},
   "outputs": [
    {
     "data": {
      "text/plain": [
       "array([[ 2,  2,  4, -2, 10],\n",
       "       [ 1,  3,  2,  4, 17],\n",
       "       [ 3,  1,  3,  1, 18],\n",
       "       [ 1,  3,  4,  2, 27]])"
      ]
     },
     "execution_count": 20,
     "metadata": {},
     "output_type": "execute_result"
    }
   ],
   "source": [
    "augmat"
   ]
  },
  {
   "cell_type": "code",
   "execution_count": 21,
   "id": "c744f573-9b2c-472a-9189-32c087d69d38",
   "metadata": {},
   "outputs": [
    {
     "data": {
      "text/plain": [
       "array([[  2,   0,   0,   0,  -7],\n",
       "       [  0,   2,   0,   0, -13],\n",
       "       [  0,   0,  -3,   0, -30],\n",
       "       [  0,   0,   0,   4,  20]])"
      ]
     },
     "execution_count": 21,
     "metadata": {},
     "output_type": "execute_result"
    }
   ],
   "source": [
    "prow = 0 #pivot row\n",
    "for prow in range(0,N): #for each pivot row\n",
    "    for row in range(0, N): #for each row except for the pivot row\n",
    "        if row!=prow:\n",
    "            ratio = augmat[row, prow]/augmat[prow, prow] #find the ratio needed to gain 0 in the first position\n",
    "            for col in range(prow, N+1): #for each element in current row\n",
    "                augmat[row, col] -= ratio*augmat[prow,col] #M'_ij = M_ij-(R*M_kj) where N > j > k and N is the width of M\n",
    "augmat"
   ]
  },
  {
   "cell_type": "code",
   "execution_count": 22,
   "id": "d7a548b0-7628-4701-8aa0-8aa31de15100",
   "metadata": {},
   "outputs": [
    {
     "data": {
      "text/plain": [
       "array([0., 0., 0., 0.])"
      ]
     },
     "execution_count": 22,
     "metadata": {},
     "output_type": "execute_result"
    }
   ],
   "source": [
    "x = np.zeros(N)\n",
    "x"
   ]
  },
  {
   "cell_type": "code",
   "execution_count": 23,
   "id": "30187345-9cc1-47e4-851b-c2207e78c29c",
   "metadata": {},
   "outputs": [
    {
     "data": {
      "text/plain": [
       "0.0"
      ]
     },
     "execution_count": 23,
     "metadata": {},
     "output_type": "execute_result"
    }
   ],
   "source": [
    "for i in reversed(range(0,N)): #for each element in x-vector, starting with the last\n",
    "    for j in reversed(range(0,N)): #for each row\n",
    "        x[i] = (1/augmat[i,i])*augmat[i,N]\n",
    "sum"
   ]
  },
  {
   "cell_type": "code",
   "execution_count": 24,
   "id": "23522fd4-030a-4ebd-add5-c1a5f81eda3f",
   "metadata": {},
   "outputs": [
    {
     "data": {
      "text/plain": [
       "array([-3.5, -6.5, 10. ,  5. ])"
      ]
     },
     "execution_count": 24,
     "metadata": {},
     "output_type": "execute_result"
    }
   ],
   "source": [
    "x"
   ]
  },
  {
   "cell_type": "code",
   "execution_count": null,
   "id": "eea852f0-751b-4282-9e2e-f0572d583f25",
   "metadata": {},
   "outputs": [],
   "source": []
  }
 ],
 "metadata": {
  "kernelspec": {
   "display_name": "Python 3 (ipykernel)",
   "language": "python",
   "name": "python3"
  },
  "language_info": {
   "codemirror_mode": {
    "name": "ipython",
    "version": 3
   },
   "file_extension": ".py",
   "mimetype": "text/x-python",
   "name": "python",
   "nbconvert_exporter": "python",
   "pygments_lexer": "ipython3",
   "version": "3.10.8"
  }
 },
 "nbformat": 4,
 "nbformat_minor": 5
}
