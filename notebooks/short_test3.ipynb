{
 "cells": [
  {
   "cell_type": "code",
   "execution_count": null,
   "metadata": {},
   "outputs": [],
   "source": [
    "import main\n",
    "import numpy as np\n",
    "import matplotlib.pyplot as plt \n",
    "np.set_printoptions(precision=2)"
   ]
  },
  {
   "cell_type": "markdown",
   "metadata": {},
   "source": [
    "### Question One\n",
    "Solve the second-order ODE\n",
    "\n",
    "$\\frac{d^2y}{dx^2}=6\\exp\\left[-8(x+1.428571)^2\\right]$\n",
    "\n",
    "between $\\left[-2,2\\right]$ (closed interval), given that $y(-2)=y(2)=9$."
   ]
  },
  {
   "cell_type": "code",
   "execution_count": null,
   "metadata": {},
   "outputs": [],
   "source": []
  }
 ],
 "metadata": {
  "language_info": {
   "name": "python"
  }
 },
 "nbformat": 4,
 "nbformat_minor": 2
}
