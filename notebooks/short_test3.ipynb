{
 "cells": [
  {
   "cell_type": "code",
   "execution_count": 33,
   "metadata": {},
   "outputs": [],
   "source": [
    "import main\n",
    "import numpy as np\n",
    "import matplotlib.pyplot as plt \n",
    "np.set_printoptions(precision=2)"
   ]
  },
  {
   "cell_type": "markdown",
   "metadata": {},
   "source": [
    "### Question One\n",
    "Solve the second-order ODE\n",
    "\n",
    "$\\frac{d^2y}{dx^2}=a\\exp\\left[-k(x-x_0)^2\\right]$\n",
    "\n",
    "between $x\\subset\\left[-2,2\\right]$ given that $y_L(-2)=y_R(2)=9$.\n",
    "\n",
    "Let $\\begin{align}\\frac{d^2y}{dx^2}&=y''(x,y')=p(x)y'+q(x)y+r(x)\\\\\n",
    "&=6\\exp\\left[-8(x+1.428571)^2\\right]\\end{align}$"
   ]
  },
  {
   "cell_type": "code",
   "execution_count": 34,
   "metadata": {},
   "outputs": [],
   "source": [
    "yL = 9 #left-boundary\n",
    "yR = 9 #right-boundary\n",
    "a = 6\n",
    "k = 8\n",
    "x0 = -1.428571\n",
    "xL = -2\n",
    "xR = 2"
   ]
  },
  {
   "cell_type": "markdown",
   "metadata": {},
   "source": [
    "We divide x into evenly spaced mesh points $0\\leq i\\leq (n-1)$.\n",
    "\n",
    "$x_i=x_0+ih\\textrm{, }h=\\frac{\\left(x_{min}-x_{max}\\right)}{(n-1)}$\n"
   ]
  },
  {
   "cell_type": "code",
   "execution_count": 35,
   "metadata": {},
   "outputs": [
    {
     "data": {
      "text/plain": [
       "array([-2.  , -1.99, -1.98, -1.98, -1.97, -1.96, -1.95, -1.94, -1.94,\n",
       "       -1.93, -1.92, -1.91, -1.9 , -1.9 , -1.89, -1.88, -1.87, -1.86,\n",
       "       -1.86, -1.85, -1.84, -1.83, -1.82, -1.82, -1.81, -1.8 , -1.79,\n",
       "       -1.78, -1.78, -1.77, -1.76, -1.75, -1.74, -1.74, -1.73, -1.72,\n",
       "       -1.71, -1.7 , -1.7 , -1.69, -1.68, -1.67, -1.66, -1.66, -1.65,\n",
       "       -1.64, -1.63, -1.62, -1.62, -1.61, -1.6 , -1.59, -1.58, -1.58,\n",
       "       -1.57, -1.56, -1.55, -1.54, -1.54, -1.53, -1.52, -1.51, -1.5 ,\n",
       "       -1.49, -1.49, -1.48, -1.47, -1.46, -1.45, -1.45, -1.44, -1.43,\n",
       "       -1.42, -1.41, -1.41, -1.4 , -1.39, -1.38, -1.37, -1.37, -1.36,\n",
       "       -1.35, -1.34, -1.33, -1.33, -1.32, -1.31, -1.3 , -1.29, -1.29,\n",
       "       -1.28, -1.27, -1.26, -1.25, -1.25, -1.24, -1.23, -1.22, -1.21,\n",
       "       -1.21, -1.2 , -1.19, -1.18, -1.17, -1.17, -1.16, -1.15, -1.14,\n",
       "       -1.13, -1.13, -1.12, -1.11, -1.1 , -1.09, -1.09, -1.08, -1.07,\n",
       "       -1.06, -1.05, -1.05, -1.04, -1.03, -1.02, -1.01, -1.01, -1.  ,\n",
       "       -0.99, -0.98, -0.97, -0.97, -0.96, -0.95, -0.94, -0.93, -0.93,\n",
       "       -0.92, -0.91, -0.9 , -0.89, -0.89, -0.88, -0.87, -0.86, -0.85,\n",
       "       -0.85, -0.84, -0.83, -0.82, -0.81, -0.81, -0.8 , -0.79, -0.78,\n",
       "       -0.77, -0.77, -0.76, -0.75, -0.74, -0.73, -0.73, -0.72, -0.71,\n",
       "       -0.7 , -0.69, -0.69, -0.68, -0.67, -0.66, -0.65, -0.65, -0.64,\n",
       "       -0.63, -0.62, -0.61, -0.61, -0.6 , -0.59, -0.58, -0.57, -0.57,\n",
       "       -0.56, -0.55, -0.54, -0.53, -0.53, -0.52, -0.51, -0.5 , -0.49,\n",
       "       -0.48, -0.48, -0.47, -0.46, -0.45, -0.44, -0.44, -0.43, -0.42,\n",
       "       -0.41, -0.4 , -0.4 , -0.39, -0.38, -0.37, -0.36, -0.36, -0.35,\n",
       "       -0.34, -0.33, -0.32, -0.32, -0.31, -0.3 , -0.29, -0.28, -0.28,\n",
       "       -0.27, -0.26, -0.25, -0.24, -0.24, -0.23, -0.22, -0.21, -0.2 ,\n",
       "       -0.2 , -0.19, -0.18, -0.17, -0.16, -0.16, -0.15, -0.14, -0.13,\n",
       "       -0.12, -0.12, -0.11, -0.1 , -0.09, -0.08, -0.08, -0.07, -0.06,\n",
       "       -0.05, -0.04, -0.04, -0.03, -0.02, -0.01, -0.  ,  0.  ,  0.01,\n",
       "        0.02,  0.03,  0.04,  0.04,  0.05,  0.06,  0.07,  0.08,  0.08,\n",
       "        0.09,  0.1 ,  0.11,  0.12,  0.12,  0.13,  0.14,  0.15,  0.16,\n",
       "        0.16,  0.17,  0.18,  0.19,  0.2 ,  0.2 ,  0.21,  0.22,  0.23,\n",
       "        0.24,  0.24,  0.25,  0.26,  0.27,  0.28,  0.28,  0.29,  0.3 ,\n",
       "        0.31,  0.32,  0.32,  0.33,  0.34,  0.35,  0.36,  0.36,  0.37,\n",
       "        0.38,  0.39,  0.4 ,  0.4 ,  0.41,  0.42,  0.43,  0.44,  0.44,\n",
       "        0.45,  0.46,  0.47,  0.48,  0.48,  0.49,  0.5 ,  0.51,  0.52,\n",
       "        0.53,  0.53,  0.54,  0.55,  0.56,  0.57,  0.57,  0.58,  0.59,\n",
       "        0.6 ,  0.61,  0.61,  0.62,  0.63,  0.64,  0.65,  0.65,  0.66,\n",
       "        0.67,  0.68,  0.69,  0.69,  0.7 ,  0.71,  0.72,  0.73,  0.73,\n",
       "        0.74,  0.75,  0.76,  0.77,  0.77,  0.78,  0.79,  0.8 ,  0.81,\n",
       "        0.81,  0.82,  0.83,  0.84,  0.85,  0.85,  0.86,  0.87,  0.88,\n",
       "        0.89,  0.89,  0.9 ,  0.91,  0.92,  0.93,  0.93,  0.94,  0.95,\n",
       "        0.96,  0.97,  0.97,  0.98,  0.99,  1.  ,  1.01,  1.01,  1.02,\n",
       "        1.03,  1.04,  1.05,  1.05,  1.06,  1.07,  1.08,  1.09,  1.09,\n",
       "        1.1 ,  1.11,  1.12,  1.13,  1.13,  1.14,  1.15,  1.16,  1.17,\n",
       "        1.17,  1.18,  1.19,  1.2 ,  1.21,  1.21,  1.22,  1.23,  1.24,\n",
       "        1.25,  1.25,  1.26,  1.27,  1.28,  1.29,  1.29,  1.3 ,  1.31,\n",
       "        1.32,  1.33,  1.33,  1.34,  1.35,  1.36,  1.37,  1.37,  1.38,\n",
       "        1.39,  1.4 ,  1.41,  1.41,  1.42,  1.43,  1.44,  1.45,  1.45,\n",
       "        1.46,  1.47,  1.48,  1.49,  1.49,  1.5 ,  1.51,  1.52,  1.53,\n",
       "        1.54,  1.54,  1.55,  1.56,  1.57,  1.58,  1.58,  1.59,  1.6 ,\n",
       "        1.61,  1.62,  1.62,  1.63,  1.64,  1.65,  1.66,  1.66,  1.67,\n",
       "        1.68,  1.69,  1.7 ,  1.7 ,  1.71,  1.72,  1.73,  1.74,  1.74,\n",
       "        1.75,  1.76,  1.77,  1.78,  1.78,  1.79,  1.8 ,  1.81,  1.82,\n",
       "        1.82,  1.83,  1.84,  1.85,  1.86,  1.86,  1.87,  1.88,  1.89,\n",
       "        1.9 ,  1.9 ,  1.91,  1.92,  1.93,  1.94,  1.94,  1.95,  1.96,\n",
       "        1.97,  1.98,  1.98,  1.99,  2.  ])"
      ]
     },
     "execution_count": 35,
     "metadata": {},
     "output_type": "execute_result"
    }
   ],
   "source": [
    "N=500\n",
    "x = np.linspace(xL, xR, N)\n",
    "x"
   ]
  },
  {
   "cell_type": "markdown",
   "metadata": {},
   "source": [
    "We now determine values for $dx$ and $dx^2$ by evaluating the expression...\n",
    "\n",
    "$\\begin{align}dx &= x_i-x_{i+1}\\\\\n",
    "&=x_0-x_0+ih-(i+1)h\\\\\n",
    "&=-h\\textrm{, }-h=\\frac{\\left(x_{max}-x_{min}\\right)}{(n-1)}\\end{align}$\n",
    "\n",
    "Choosing the finite difference operator $\\Delta$ avoids confusion about how to calculate $dx^2$\n",
    "$\\begin{align}\\Delta x^2&\\equiv (dx)^2\\\\\\Delta x^2&\\neq x_i^2-x_{i+1}^2\n",
    "\\end{align}$\n",
    "Making our expression far simpler to evaluate.\n"
   ]
  },
  {
   "cell_type": "code",
   "execution_count": 36,
   "metadata": {},
   "outputs": [
    {
     "name": "stdout",
     "output_type": "stream",
     "text": [
      "Δx = 0.008016032064128256 \n",
      "Δx²= 6.42567700531323e-05\n"
     ]
    }
   ],
   "source": [
    "Dx = (xR-xL)/(N-1)\n",
    "DDx = Dx**2\n",
    "print('Δx =',Dx,'\\nΔx²=',DDx)"
   ]
  },
  {
   "cell_type": "markdown",
   "metadata": {},
   "source": [
    "Now, we let $\\frac{d^2y}{dx^2}=g(x)$\n",
    "\n",
    "$\\begin{align}\n",
    "\\frac{d^2y}{dx^2}\\Rightarrow g(x)=a\\exp\\left[-k(x-x_0)^2\\right]\n",
    "\\end{align}$\n",
    "\n",
    "To solve, we need to evaluate the boundary conditions $y_L(x=-2)=9\\textrm{ and, }y_R(x=2)=9$, hence:\n",
    "\n",
    "$\\begin{align}\n",
    "g(x_0)&=-2y_L\\\\\n",
    "g(x_{N-1})&=-2y_R\n",
    "\\end{align}$"
   ]
  },
  {
   "cell_type": "code",
   "execution_count": 37,
   "metadata": {},
   "outputs": [],
   "source": [
    "def g(x,N):\n",
    "    gx = np.zeros(N)\n",
    "    for i in range(0,N):\n",
    "        gx[i] = (a * (np.exp(-k * (x[i] - x0)**2))) * DDx\n",
    "    gx[0] = yL*(-2)\n",
    "    gx[N-1] = yR * (-2)\n",
    "    return gx"
   ]
  },
  {
   "cell_type": "code",
   "execution_count": 38,
   "metadata": {},
   "outputs": [
    {
     "data": {
      "text/plain": [
       "[<matplotlib.lines.Line2D at 0x7eff3fb90b50>]"
      ]
     },
     "execution_count": 38,
     "metadata": {},
     "output_type": "execute_result"
    },
    {
     "data": {
      "image/png": "[encoded data removed]",
      "text/plain": [
       "<Figure size 640x480 with 1 Axes>"
      ]
     },
     "metadata": {},
     "output_type": "display_data"
    }
   ],
   "source": [
    "plt.plot(x, g(x,N))"
   ]
  }
 ],
 "metadata": {
  "kernelspec": {
   "display_name": "Python 3",
   "language": "python",
   "name": "python3"
  },
  "language_info": {
   "codemirror_mode": {
    "name": "ipython",
    "version": 3
   },
   "file_extension": ".py",
   "mimetype": "text/x-python",
   "name": "python",
   "nbconvert_exporter": "python",
   "pygments_lexer": "ipython3",
   "version": "3.10.8"
  }
 },
 "nbformat": 4,
 "nbformat_minor": 2
}
