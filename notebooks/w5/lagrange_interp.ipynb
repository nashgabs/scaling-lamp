{
 "cells": [
  {
   "cell_type": "code",
   "execution_count": 5,
   "metadata": {},
   "outputs": [],
   "source": [
    "#This interpolation method is named after Lagrange.\n",
    "#Fit is excellent in the centre of data points but\n",
    "# degrades at the edges.\n",
    "import numpy as np\n",
    "import matplotlib.pyplot as plt\n",
    "import csv\n",
    "np.set_printoptions(precision=2)"
   ]
  },
  {
   "cell_type": "code",
   "execution_count": 6,
   "metadata": {},
   "outputs": [],
   "source": [
    "#define function to read csv data into an array given a filename\n",
    "def opencsv(file):\n",
    "    with open(\"\".join( [\"data/\",file] ), 'r') as f:\n",
    "        r = csv.reader(f)\n",
    "        data = list(r)\n",
    "    #return array of values\n",
    "    return np.array(data,dtype=float)"
   ]
  },
  {
   "cell_type": "code",
   "execution_count": 7,
   "metadata": {},
   "outputs": [],
   "source": [
    "#define lagrange interpolator\n",
    "def lagrangePoly(xofp,x,y):\n",
    "    result = 0\n",
    "    for i in range(len(x)):\n",
    "        presult = 1\n",
    "        for j in range(len(x)):\n",
    "            if (j-i)**2 < 1:\n",
    "                pass\n",
    "            else:\n",
    "                presult *= (xofp- x[j])/(x[i]-x[j])\n",
    "        result += presult*y[i]\n",
    "    return result"
   ]
  },
  {
   "cell_type": "code",
   "execution_count": 8,
   "metadata": {},
   "outputs": [
    {
     "ename": "FileNotFoundError",
     "evalue": "[Errno 2] No such file or directory: 'data/test-2_q1.csv'",
     "output_type": "error",
     "traceback": [
      "\u001b[0;31m---------------------------------------------------------------------------\u001b[0m",
      "\u001b[0;31mFileNotFoundError\u001b[0m                         Traceback (most recent call last)",
      "\u001b[1;32m/workspaces/codespaces-jupyter/notebooks/w5/lagrange_interp.ipynb Cell 4\u001b[0m line \u001b[0;36m2\n\u001b[1;32m      <a href='vscode-notebook-cell://codespaces%2Bscaling-lamp-4p5wqr5wv9wf5x57/workspaces/codespaces-jupyter/notebooks/w5/lagrange_interp.ipynb#W3sdnNjb2RlLXJlbW90ZQ%3D%3D?line=0'>1</a>\u001b[0m file \u001b[39m=\u001b[39m \u001b[39m\"\u001b[39m\u001b[39mtest-2_q1.csv\u001b[39m\u001b[39m\"\u001b[39m \u001b[39m#define the filename\u001b[39;00m\n\u001b[0;32m----> <a href='vscode-notebook-cell://codespaces%2Bscaling-lamp-4p5wqr5wv9wf5x57/workspaces/codespaces-jupyter/notebooks/w5/lagrange_interp.ipynb#W3sdnNjb2RlLXJlbW90ZQ%3D%3D?line=1'>2</a>\u001b[0m values \u001b[39m=\u001b[39m opencsv(file) \u001b[39m#imports data into values([],[])\u001b[39;00m\n\u001b[1;32m      <a href='vscode-notebook-cell://codespaces%2Bscaling-lamp-4p5wqr5wv9wf5x57/workspaces/codespaces-jupyter/notebooks/w5/lagrange_interp.ipynb#W3sdnNjb2RlLXJlbW90ZQ%3D%3D?line=2'>3</a>\u001b[0m lagrangePoly(\u001b[39m0.78\u001b[39m, values[:,\u001b[39m0\u001b[39m],values[:,\u001b[39m1\u001b[39m])\n",
      "\u001b[1;32m/workspaces/codespaces-jupyter/notebooks/w5/lagrange_interp.ipynb Cell 4\u001b[0m line \u001b[0;36m3\n\u001b[1;32m      <a href='vscode-notebook-cell://codespaces%2Bscaling-lamp-4p5wqr5wv9wf5x57/workspaces/codespaces-jupyter/notebooks/w5/lagrange_interp.ipynb#W3sdnNjb2RlLXJlbW90ZQ%3D%3D?line=1'>2</a>\u001b[0m \u001b[39mdef\u001b[39;00m \u001b[39mopencsv\u001b[39m(file):\n\u001b[0;32m----> <a href='vscode-notebook-cell://codespaces%2Bscaling-lamp-4p5wqr5wv9wf5x57/workspaces/codespaces-jupyter/notebooks/w5/lagrange_interp.ipynb#W3sdnNjb2RlLXJlbW90ZQ%3D%3D?line=2'>3</a>\u001b[0m     \u001b[39mwith\u001b[39;00m \u001b[39mopen\u001b[39;49m(\u001b[39m\"\u001b[39;49m\u001b[39m\"\u001b[39;49m\u001b[39m.\u001b[39;49mjoin( [\u001b[39m\"\u001b[39;49m\u001b[39mdata/\u001b[39;49m\u001b[39m\"\u001b[39;49m,file] ), \u001b[39m'\u001b[39;49m\u001b[39mr\u001b[39;49m\u001b[39m'\u001b[39;49m) \u001b[39mas\u001b[39;00m f:\n\u001b[1;32m      <a href='vscode-notebook-cell://codespaces%2Bscaling-lamp-4p5wqr5wv9wf5x57/workspaces/codespaces-jupyter/notebooks/w5/lagrange_interp.ipynb#W3sdnNjb2RlLXJlbW90ZQ%3D%3D?line=3'>4</a>\u001b[0m         r \u001b[39m=\u001b[39m csv\u001b[39m.\u001b[39mreader(f)\n\u001b[1;32m      <a href='vscode-notebook-cell://codespaces%2Bscaling-lamp-4p5wqr5wv9wf5x57/workspaces/codespaces-jupyter/notebooks/w5/lagrange_interp.ipynb#W3sdnNjb2RlLXJlbW90ZQ%3D%3D?line=4'>5</a>\u001b[0m         data \u001b[39m=\u001b[39m \u001b[39mlist\u001b[39m(r)\n",
      "File \u001b[0;32m~/.local/lib/python3.10/site-packages/IPython/core/interactiveshell.py:286\u001b[0m, in \u001b[0;36m_modified_open\u001b[0;34m(file, *args, **kwargs)\u001b[0m\n\u001b[1;32m    279\u001b[0m \u001b[39mif\u001b[39;00m file \u001b[39min\u001b[39;00m {\u001b[39m0\u001b[39m, \u001b[39m1\u001b[39m, \u001b[39m2\u001b[39m}:\n\u001b[1;32m    280\u001b[0m     \u001b[39mraise\u001b[39;00m \u001b[39mValueError\u001b[39;00m(\n\u001b[1;32m    281\u001b[0m         \u001b[39mf\u001b[39m\u001b[39m\"\u001b[39m\u001b[39mIPython won\u001b[39m\u001b[39m'\u001b[39m\u001b[39mt let you open fd=\u001b[39m\u001b[39m{\u001b[39;00mfile\u001b[39m}\u001b[39;00m\u001b[39m by default \u001b[39m\u001b[39m\"\u001b[39m\n\u001b[1;32m    282\u001b[0m         \u001b[39m\"\u001b[39m\u001b[39mas it is likely to crash IPython. If you know what you are doing, \u001b[39m\u001b[39m\"\u001b[39m\n\u001b[1;32m    283\u001b[0m         \u001b[39m\"\u001b[39m\u001b[39myou can use builtins\u001b[39m\u001b[39m'\u001b[39m\u001b[39m open.\u001b[39m\u001b[39m\"\u001b[39m\n\u001b[1;32m    284\u001b[0m     )\n\u001b[0;32m--> 286\u001b[0m \u001b[39mreturn\u001b[39;00m io_open(file, \u001b[39m*\u001b[39;49margs, \u001b[39m*\u001b[39;49m\u001b[39m*\u001b[39;49mkwargs)\n",
      "\u001b[0;31mFileNotFoundError\u001b[0m: [Errno 2] No such file or directory: 'data/test-2_q1.csv'"
     ]
    }
   ],
   "source": [
    "file = \"test-2_q1.csv\" #define the filename\n",
    "values = opencsv(file) #imports data into values([],[])\n",
    "lagrangePoly(0.78, values[:,0],values[:,1])"
   ]
  }
 ],
 "metadata": {
  "kernelspec": {
   "display_name": "Python 3",
   "language": "python",
   "name": "python3"
  },
  "language_info": {
   "codemirror_mode": {
    "name": "ipython",
    "version": 3
   },
   "file_extension": ".py",
   "mimetype": "text/x-python",
   "name": "python",
   "nbconvert_exporter": "python",
   "pygments_lexer": "ipython3",
   "version": "3.10.8"
  }
 },
 "nbformat": 4,
 "nbformat_minor": 2
}
