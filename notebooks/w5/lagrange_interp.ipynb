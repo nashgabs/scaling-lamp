{
 "cells": [
  {
   "cell_type": "code",
   "execution_count": 17,
   "metadata": {},
   "outputs": [],
   "source": [
    "#This interpolation method is named after Lagrange.\n",
    "#Fit is excellent in the centre of data points but\n",
    "# degrades at the edges.\n",
    "import numpy as np\n",
    "import matplotlib.pyplot as plt\n",
    "import csv\n",
    "np.set_printoptions(precision=2)"
   ]
  },
  {
   "cell_type": "code",
   "execution_count": 18,
   "metadata": {},
   "outputs": [],
   "source": [
    "#define function to read csv data into an array given a filename\n",
    "def opencsv(file):\n",
    "    with open(\"\".join( [\"../data/\",file] ), 'r') as f:\n",
    "        r = csv.reader(f)\n",
    "        data = list(r)\n",
    "    #return array of values\n",
    "    return np.array(data,dtype=float)"
   ]
  },
  {
   "cell_type": "code",
   "execution_count": 19,
   "metadata": {},
   "outputs": [],
   "source": [
    "#define lagrange interpolator\n",
    "def lagrangePoly(xofp,x,y): # \n",
    "    result = 0\n",
    "    for i in range(len(x)):\n",
    "        presult = 1\n",
    "        for j in range(len(x)):\n",
    "            if (j-i)**2 < 1:\n",
    "                pass\n",
    "            else:\n",
    "                presult *= (xofp- x[j])/(x[i]-x[j])\n",
    "        result += presult*y[i]\n",
    "    return result"
   ]
  },
  {
   "cell_type": "code",
   "execution_count": 20,
   "metadata": {},
   "outputs": [
    {
     "data": {
      "text/plain": [
       "1.2671200349171865"
      ]
     },
     "execution_count": 20,
     "metadata": {},
     "output_type": "execute_result"
    }
   ],
   "source": [
    "file = \"test-2_q1.csv\" #define the filename\n",
    "values = opencsv(file) #imports data into values([],[])\n",
    "lagrangePoly(0.78, values[:,0],values[:,1])"
   ]
  }
 ],
 "metadata": {
  "kernelspec": {
   "display_name": "Python 3",
   "language": "python",
   "name": "python3"
  },
  "language_info": {
   "codemirror_mode": {
    "name": "ipython",
    "version": 3
   },
   "file_extension": ".py",
   "mimetype": "text/x-python",
   "name": "python",
   "nbconvert_exporter": "python",
   "pygments_lexer": "ipython3",
   "version": "3.10.8"
  }
 },
 "nbformat": 4,
 "nbformat_minor": 2
}
