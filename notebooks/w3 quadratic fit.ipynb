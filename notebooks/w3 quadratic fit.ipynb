{
 "cells": [
  {
   "cell_type": "code",
   "execution_count": 37,
   "id": "ef1dda50-c9cd-436a-993d-81e920b367d3",
   "metadata": {},
   "outputs": [],
   "source": [
    "import numpy as np\n",
    "import csv\n",
    "np.set_printoptions(precision=2)"
   ]
  },
  {
   "cell_type": "code",
   "execution_count": 51,
   "id": "447af6b7-5992-425a-8184-d9da4fe21126",
   "metadata": {
    "jupyter": {
     "source_hidden": true
    }
   },
   "outputs": [],
   "source": [
    "i = 10\n",
    "def y(i): #y-function\n",
    "    return (2*i) + 0.3\n",
    "\n",
    "def sig_x(i,n): #sum of x^n\n",
    "    sum = 0\n",
    "    for x in range(1,i+1):\n",
    "        sum += x**n\n",
    "    return sum\n",
    "\n",
    "\n",
    "def sig_y(i,n): #sum of y^n\n",
    "    sum = 0\n",
    "    for x in range(1,i+1):\n",
    "        sum += y(x)**n\n",
    "    return sum\n",
    "\n",
    "\n",
    "def sig_xy(i,n): #sum of (x^n)*y\n",
    "    sum = 0\n",
    "    for x in range(1,i+1):\n",
    "        sum += y(x) * x**n\n",
    "    return sum\n",
    "\n",
    "\n",
    "def mean_y(i): #mean of y\n",
    "    sum = 0\n",
    "    for x in range(1,i+1):\n",
    "        sum += y(x)\n",
    "    return sum/i\n",
    "\n",
    "\n",
    "def mean_x(i): #mean of x\n",
    "    sum = 0\n",
    "    for x in range(1,i+1):\n",
    "        sum += x;\n",
    "    return sum/i\n",
    "\n",
    "\n",
    "#coefficient 1\n",
    "def a1(i):\n",
    "    return ((i*sig_xy(i,1))-(sig_x(i,1)*sig_y(i,1)))/((i*sig_x(i,2))-(sig_x(i,1))**2)\n",
    "\n",
    "\n",
    "#coefficient 0\n",
    "def a0(i):\n",
    "    return mean_y(i)-(a1(i)*mean_x(i))\n",
    "\n",
    "\n",
    "#correlation of x and y\n",
    "def r(i):\n",
    "    return ((i*sig_xy(i,1))-(sig_x(i,1)*sig_y(i,1)))/(np.sqrt((i*sig_x(i,2))-(sig_x(i,1))**2)*np.sqrt((i*sig_y(i,2))-(sig_y(i,1))**2))\n"
   ]
  },
  {
   "cell_type": "code",
   "execution_count": 38,
   "id": "79a9fc74-7143-411d-911a-ccac9d5c0292",
   "metadata": {},
   "outputs": [
    {
     "data": {
      "text/plain": [
       "array([-3.5, -6.5, 10. ,  5. ])"
      ]
     },
     "execution_count": 38,
     "metadata": {},
     "output_type": "execute_result"
    }
   ],
   "source": [
    "def gauss_elim(N,augmat):\n",
    "    matdim = (N, N+1)\n",
    "    prow = 0 #pivot row\n",
    "    x = np.zeros(N)\n",
    "    \n",
    "    for prow in range(0,N): #for each pivot row\n",
    "        for row in range(prow+1, N): #for each row underneath the pivot row\n",
    "            ratio = augmat[row, prow]/augmat[prow, prow] #find the ratio needed to gain 0 in the first position\n",
    "            for col in range(prow, N+1): #for each element in current row\n",
    "                augmat[row, col] -= ratio*augmat[prow,col] #M'_ij = M_ij-(R*M_kj) where N > j > k and N is the width of M\n",
    "                \n",
    "    for i in reversed(range(0,N)): #for each element in x-vector, starting with the last\n",
    "        sum=0\n",
    "        for j in reversed(range(0,N)): #for each factor in the row\n",
    "            if(i!=j): #exclude factor of itself\n",
    "                sum += x[j]*augmat[i,j] #sum of other x-vector elements * factors\n",
    "        x[i] = (augmat[i,N]-sum)/augmat[i,i]\n",
    "    return x\n",
    "array = np.array([[2,2,4,-2,10],[1,3,2,4,17],[3,1,3,1,18],[1,3,4,2,27]])\n",
    "gauss_elim(4,array)"
   ]
  },
  {
   "cell_type": "code",
   "execution_count": 54,
   "id": "361f022d-89d5-41bb-a497-978249df1374",
   "metadata": {},
   "outputs": [],
   "source": [
    "#open csv data\n",
    "with open('data.csv', 'r') as f:\n",
    "    r = csv.reader(f)\n",
    "    data = list(r)\n",
    "#create array containing values\n",
    "val = np.array(data,dtype=float)"
   ]
  },
  {
   "cell_type": "code",
   "execution_count": 55,
   "id": "6c28ba40-87b0-49be-a419-7cd8fc558082",
   "metadata": {},
   "outputs": [],
   "source": [
    "augmat = np.zeros([3,4])\n"
   ]
  },
  {
   "cell_type": "code",
   "execution_count": 67,
   "id": "ce422dd2-309f-4a2c-ac5d-a993a8171ea0",
   "metadata": {},
   "outputs": [],
   "source": [
    "i = val.shape[0]\n",
    "sum = 0\n",
    "for j in range(0,i):\n",
    "    sum += val[j,0]**0\n",
    "augmat[0,0] = sum\n",
    "\n",
    "sum = 0\n",
    "for j in range(0,i):\n",
    "    sum += val[j,0]**1\n",
    "augmat[0,1] = sum\n",
    "augmat[1,0] = sum\n",
    "\n",
    "for j in range(0,i):\n",
    "    sum += val[j,0]**2\n",
    "\n",
    "augmat[0,2] = sum\n",
    "augmat[1,1] = sum\n",
    "augmat[2,0] = sum"
   ]
  }
 ],
 "metadata": {
  "kernelspec": {
   "display_name": "Python 3 (ipykernel)",
   "language": "python",
   "name": "python3"
  },
  "language_info": {
   "codemirror_mode": {
    "name": "ipython",
    "version": 3
   },
   "file_extension": ".py",
   "mimetype": "text/x-python",
   "name": "python",
   "nbconvert_exporter": "python",
   "pygments_lexer": "ipython3",
   "version": "3.10.8"
  }
 },
 "nbformat": 4,
 "nbformat_minor": 5
}
