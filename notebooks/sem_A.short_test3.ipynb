{
 "cells": [
  {
   "cell_type": "code",
   "execution_count": 34,
   "metadata": {},
   "outputs": [],
   "source": [
    "import main\n",
    "import numpy as np\n",
    "import matplotlib.pyplot as plt\n",
    "import csv\n",
    "np.set_printoptions(precision=2)"
   ]
  },
  {
   "cell_type": "markdown",
   "metadata": {},
   "source": [
    "### Question One\n",
    "Solve the second-order ODE\n",
    "\n",
    "$\\frac{d^2y}{dx^2}=a\\exp\\left[-k(x-x_0)^2\\right]$\n",
    "\n",
    "between $x\\subset\\left[-2,2\\right]$ given that $y_L(-2)=y_R(2)=9$.\n",
    "\n",
    "Let $\\begin{align}\\frac{d^2y}{dx^2}&=y''(x,y')=p(x)y'+q(x)y+r(x)\\\\\n",
    "&=6\\exp\\left[-8(x+1.428571)^2\\right]\\end{align}$"
   ]
  },
  {
   "cell_type": "code",
   "execution_count": 35,
   "metadata": {},
   "outputs": [],
   "source": [
    "yL = 9 #left-boundary\n",
    "yR = 9 #right-boundary\n",
    "a = 6\n",
    "k = 8\n",
    "x0 = -1.428571\n",
    "xL = -2\n",
    "xR = 2"
   ]
  },
  {
   "cell_type": "markdown",
   "metadata": {},
   "source": [
    "We divide x into evenly spaced mesh points $0\\leq i\\leq (n-1)$.\n",
    "\n",
    "$x_i=x_0+ih\\textrm{, }h=\\frac{\\left(x_{min}-x_{max}\\right)}{(n-1)}$\n"
   ]
  },
  {
   "cell_type": "code",
   "execution_count": 36,
   "metadata": {},
   "outputs": [
    {
     "data": {
      "text/plain": [
       "array([-2.  , -1.99, -1.98, -1.98, -1.97, -1.96, -1.95, -1.94, -1.94,\n",
       "       -1.93, -1.92, -1.91, -1.9 , -1.9 , -1.89, -1.88, -1.87, -1.86,\n",
       "       -1.86, -1.85, -1.84, -1.83, -1.82, -1.82, -1.81, -1.8 , -1.79,\n",
       "       -1.78, -1.78, -1.77, -1.76, -1.75, -1.74, -1.74, -1.73, -1.72,\n",
       "       -1.71, -1.7 , -1.7 , -1.69, -1.68, -1.67, -1.66, -1.66, -1.65,\n",
       "       -1.64, -1.63, -1.62, -1.62, -1.61, -1.6 , -1.59, -1.58, -1.58,\n",
       "       -1.57, -1.56, -1.55, -1.54, -1.54, -1.53, -1.52, -1.51, -1.5 ,\n",
       "       -1.49, -1.49, -1.48, -1.47, -1.46, -1.45, -1.45, -1.44, -1.43,\n",
       "       -1.42, -1.41, -1.41, -1.4 , -1.39, -1.38, -1.37, -1.37, -1.36,\n",
       "       -1.35, -1.34, -1.33, -1.33, -1.32, -1.31, -1.3 , -1.29, -1.29,\n",
       "       -1.28, -1.27, -1.26, -1.25, -1.25, -1.24, -1.23, -1.22, -1.21,\n",
       "       -1.21, -1.2 , -1.19, -1.18, -1.17, -1.17, -1.16, -1.15, -1.14,\n",
       "       -1.13, -1.13, -1.12, -1.11, -1.1 , -1.09, -1.09, -1.08, -1.07,\n",
       "       -1.06, -1.05, -1.05, -1.04, -1.03, -1.02, -1.01, -1.01, -1.  ,\n",
       "       -0.99, -0.98, -0.97, -0.97, -0.96, -0.95, -0.94, -0.93, -0.93,\n",
       "       -0.92, -0.91, -0.9 , -0.89, -0.89, -0.88, -0.87, -0.86, -0.85,\n",
       "       -0.85, -0.84, -0.83, -0.82, -0.81, -0.81, -0.8 , -0.79, -0.78,\n",
       "       -0.77, -0.77, -0.76, -0.75, -0.74, -0.73, -0.73, -0.72, -0.71,\n",
       "       -0.7 , -0.69, -0.69, -0.68, -0.67, -0.66, -0.65, -0.65, -0.64,\n",
       "       -0.63, -0.62, -0.61, -0.61, -0.6 , -0.59, -0.58, -0.57, -0.57,\n",
       "       -0.56, -0.55, -0.54, -0.53, -0.53, -0.52, -0.51, -0.5 , -0.49,\n",
       "       -0.48, -0.48, -0.47, -0.46, -0.45, -0.44, -0.44, -0.43, -0.42,\n",
       "       -0.41, -0.4 , -0.4 , -0.39, -0.38, -0.37, -0.36, -0.36, -0.35,\n",
       "       -0.34, -0.33, -0.32, -0.32, -0.31, -0.3 , -0.29, -0.28, -0.28,\n",
       "       -0.27, -0.26, -0.25, -0.24, -0.24, -0.23, -0.22, -0.21, -0.2 ,\n",
       "       -0.2 , -0.19, -0.18, -0.17, -0.16, -0.16, -0.15, -0.14, -0.13,\n",
       "       -0.12, -0.12, -0.11, -0.1 , -0.09, -0.08, -0.08, -0.07, -0.06,\n",
       "       -0.05, -0.04, -0.04, -0.03, -0.02, -0.01, -0.  ,  0.  ,  0.01,\n",
       "        0.02,  0.03,  0.04,  0.04,  0.05,  0.06,  0.07,  0.08,  0.08,\n",
       "        0.09,  0.1 ,  0.11,  0.12,  0.12,  0.13,  0.14,  0.15,  0.16,\n",
       "        0.16,  0.17,  0.18,  0.19,  0.2 ,  0.2 ,  0.21,  0.22,  0.23,\n",
       "        0.24,  0.24,  0.25,  0.26,  0.27,  0.28,  0.28,  0.29,  0.3 ,\n",
       "        0.31,  0.32,  0.32,  0.33,  0.34,  0.35,  0.36,  0.36,  0.37,\n",
       "        0.38,  0.39,  0.4 ,  0.4 ,  0.41,  0.42,  0.43,  0.44,  0.44,\n",
       "        0.45,  0.46,  0.47,  0.48,  0.48,  0.49,  0.5 ,  0.51,  0.52,\n",
       "        0.53,  0.53,  0.54,  0.55,  0.56,  0.57,  0.57,  0.58,  0.59,\n",
       "        0.6 ,  0.61,  0.61,  0.62,  0.63,  0.64,  0.65,  0.65,  0.66,\n",
       "        0.67,  0.68,  0.69,  0.69,  0.7 ,  0.71,  0.72,  0.73,  0.73,\n",
       "        0.74,  0.75,  0.76,  0.77,  0.77,  0.78,  0.79,  0.8 ,  0.81,\n",
       "        0.81,  0.82,  0.83,  0.84,  0.85,  0.85,  0.86,  0.87,  0.88,\n",
       "        0.89,  0.89,  0.9 ,  0.91,  0.92,  0.93,  0.93,  0.94,  0.95,\n",
       "        0.96,  0.97,  0.97,  0.98,  0.99,  1.  ,  1.01,  1.01,  1.02,\n",
       "        1.03,  1.04,  1.05,  1.05,  1.06,  1.07,  1.08,  1.09,  1.09,\n",
       "        1.1 ,  1.11,  1.12,  1.13,  1.13,  1.14,  1.15,  1.16,  1.17,\n",
       "        1.17,  1.18,  1.19,  1.2 ,  1.21,  1.21,  1.22,  1.23,  1.24,\n",
       "        1.25,  1.25,  1.26,  1.27,  1.28,  1.29,  1.29,  1.3 ,  1.31,\n",
       "        1.32,  1.33,  1.33,  1.34,  1.35,  1.36,  1.37,  1.37,  1.38,\n",
       "        1.39,  1.4 ,  1.41,  1.41,  1.42,  1.43,  1.44,  1.45,  1.45,\n",
       "        1.46,  1.47,  1.48,  1.49,  1.49,  1.5 ,  1.51,  1.52,  1.53,\n",
       "        1.54,  1.54,  1.55,  1.56,  1.57,  1.58,  1.58,  1.59,  1.6 ,\n",
       "        1.61,  1.62,  1.62,  1.63,  1.64,  1.65,  1.66,  1.66,  1.67,\n",
       "        1.68,  1.69,  1.7 ,  1.7 ,  1.71,  1.72,  1.73,  1.74,  1.74,\n",
       "        1.75,  1.76,  1.77,  1.78,  1.78,  1.79,  1.8 ,  1.81,  1.82,\n",
       "        1.82,  1.83,  1.84,  1.85,  1.86,  1.86,  1.87,  1.88,  1.89,\n",
       "        1.9 ,  1.9 ,  1.91,  1.92,  1.93,  1.94,  1.94,  1.95,  1.96,\n",
       "        1.97,  1.98,  1.98,  1.99,  2.  ])"
      ]
     },
     "execution_count": 36,
     "metadata": {},
     "output_type": "execute_result"
    }
   ],
   "source": [
    "N=500\n",
    "x = np.linspace(xL, xR, N)\n",
    "x"
   ]
  },
  {
   "cell_type": "markdown",
   "metadata": {},
   "source": [
    "We now determine values for $dx$ and $dx^2$ by evaluating the expression...\n",
    "\n",
    "$\\begin{align}dx &= x_i-x_{i+1}\\\\\n",
    "&=x_0-x_0+ih-(i+1)h\\\\\n",
    "&=-h\\textrm{, }-h=\\frac{\\left(x_{max}-x_{min}\\right)}{(n-1)}\\end{align}$\n",
    "\n",
    "Choosing the finite difference operator $\\Delta$ avoids confusion about how to calculate $dx^2$\n",
    "$\\begin{align}\\Delta x^2&\\equiv (dx)^2\\\\\\Delta x^2&\\neq x_i^2-x_{i+1}^2\n",
    "\\end{align}$\n",
    "Making $\\Delta x^2$ simple to evaluate.\n"
   ]
  },
  {
   "cell_type": "code",
   "execution_count": 37,
   "metadata": {},
   "outputs": [
    {
     "name": "stdout",
     "output_type": "stream",
     "text": [
      "Δx = 0.008016032064128256 \n",
      "Δx²= 6.42567700531323e-05\n"
     ]
    }
   ],
   "source": [
    "Dx = (xR-xL)/(N-1)\n",
    "DDx = Dx**2\n",
    "print('Δx =',Dx,'\\nΔx²=',DDx)"
   ]
  },
  {
   "cell_type": "markdown",
   "metadata": {},
   "source": [
    "Now, we let $\\frac{d^2y}{dx^2}=g(x)$\n",
    "\n",
    "$\\begin{align}\n",
    "\\frac{d^2y}{dx^2}\\Rightarrow g(x)=a\\exp\\left[-k(x-x_0)^2\\right]\n",
    "\\end{align}$\n",
    "\n",
    "Also, to solve we need to evaluate $g(x)$ at the boundary conditions $y_L(x_0=-2)=9\\textrm{ and, }y_R(x_{N-1}=2)=9$ as follows:\n",
    "\n",
    "$\\begin{align}\n",
    "g(x_0)&=-2y_L\\\\g(x_{N-1})&=-2y_R\n",
    "\\end{align}$"
   ]
  },
  {
   "cell_type": "code",
   "execution_count": 38,
   "metadata": {},
   "outputs": [
    {
     "data": {
      "text/plain": [
       "array([-1.80e+01,  3.04e-05,  3.27e-05,  3.51e-05,  3.76e-05,  4.03e-05,\n",
       "        4.31e-05,  4.61e-05,  4.92e-05,  5.25e-05,  5.59e-05,  5.95e-05,\n",
       "        6.33e-05,  6.72e-05,  7.14e-05,  7.56e-05,  8.01e-05,  8.48e-05,\n",
       "        8.96e-05,  9.46e-05,  9.97e-05,  1.05e-04,  1.11e-04,  1.16e-04,\n",
       "        1.22e-04,  1.28e-04,  1.34e-04,  1.41e-04,  1.47e-04,  1.54e-04,\n",
       "        1.61e-04,  1.67e-04,  1.74e-04,  1.81e-04,  1.89e-04,  1.96e-04,\n",
       "        2.03e-04,  2.11e-04,  2.18e-04,  2.26e-04,  2.33e-04,  2.41e-04,\n",
       "        2.48e-04,  2.56e-04,  2.63e-04,  2.70e-04,  2.78e-04,  2.85e-04,\n",
       "        2.92e-04,  2.99e-04,  3.05e-04,  3.12e-04,  3.18e-04,  3.25e-04,\n",
       "        3.31e-04,  3.36e-04,  3.42e-04,  3.47e-04,  3.52e-04,  3.57e-04,\n",
       "        3.61e-04,  3.65e-04,  3.69e-04,  3.72e-04,  3.75e-04,  3.78e-04,\n",
       "        3.80e-04,  3.82e-04,  3.83e-04,  3.85e-04,  3.85e-04,  3.86e-04,\n",
       "        3.85e-04,  3.85e-04,  3.84e-04,  3.83e-04,  3.81e-04,  3.79e-04,\n",
       "        3.77e-04,  3.74e-04,  3.71e-04,  3.67e-04,  3.63e-04,  3.59e-04,\n",
       "        3.55e-04,  3.50e-04,  3.45e-04,  3.40e-04,  3.34e-04,  3.28e-04,\n",
       "        3.22e-04,  3.16e-04,  3.09e-04,  3.03e-04,  2.96e-04,  2.89e-04,\n",
       "        2.82e-04,  2.74e-04,  2.67e-04,  2.60e-04,  2.52e-04,  2.45e-04,\n",
       "        2.37e-04,  2.30e-04,  2.22e-04,  2.15e-04,  2.08e-04,  2.00e-04,\n",
       "        1.93e-04,  1.86e-04,  1.78e-04,  1.71e-04,  1.64e-04,  1.58e-04,\n",
       "        1.51e-04,  1.44e-04,  1.38e-04,  1.32e-04,  1.26e-04,  1.20e-04,\n",
       "        1.14e-04,  1.08e-04,  1.03e-04,  9.75e-05,  9.24e-05,  8.75e-05,\n",
       "        8.27e-05,  7.82e-05,  7.38e-05,  6.96e-05,  6.55e-05,  6.17e-05,\n",
       "        5.80e-05,  5.44e-05,  5.11e-05,  4.78e-05,  4.48e-05,  4.19e-05,\n",
       "        3.91e-05,  3.65e-05,  3.40e-05,  3.17e-05,  2.95e-05,  2.74e-05,\n",
       "        2.54e-05,  2.36e-05,  2.19e-05,  2.02e-05,  1.87e-05,  1.73e-05,\n",
       "        1.60e-05,  1.47e-05,  1.35e-05,  1.25e-05,  1.14e-05,  1.05e-05,\n",
       "        9.64e-06,  8.83e-06,  8.08e-06,  7.39e-06,  6.75e-06,  6.15e-06,\n",
       "        5.61e-06,  5.11e-06,  4.65e-06,  4.22e-06,  3.83e-06,  3.47e-06,\n",
       "        3.15e-06,  2.85e-06,  2.57e-06,  2.32e-06,  2.10e-06,  1.89e-06,\n",
       "        1.70e-06,  1.53e-06,  1.37e-06,  1.23e-06,  1.11e-06,  9.90e-07,\n",
       "        8.86e-07,  7.92e-07,  7.07e-07,  6.31e-07,  5.62e-07,  5.00e-07,\n",
       "        4.45e-07,  3.95e-07,  3.51e-07,  3.11e-07,  2.75e-07,  2.44e-07,\n",
       "        2.15e-07,  1.90e-07,  1.68e-07,  1.48e-07,  1.30e-07,  1.14e-07,\n",
       "        1.00e-07,  8.80e-08,  7.72e-08,  6.76e-08,  5.91e-08,  5.16e-08,\n",
       "        4.51e-08,  3.93e-08,  3.42e-08,  2.98e-08,  2.59e-08,  2.25e-08,\n",
       "        1.95e-08,  1.69e-08,  1.46e-08,  1.27e-08,  1.09e-08,  9.44e-09,\n",
       "        8.14e-09,  7.01e-09,  6.03e-09,  5.19e-09,  4.45e-09,  3.82e-09,\n",
       "        3.27e-09,  2.80e-09,  2.40e-09,  2.05e-09,  1.75e-09,  1.49e-09,\n",
       "        1.27e-09,  1.08e-09,  9.17e-10,  7.78e-10,  6.60e-10,  5.59e-10,\n",
       "        4.73e-10,  4.00e-10,  3.38e-10,  2.85e-10,  2.41e-10,  2.03e-10,\n",
       "        1.70e-10,  1.43e-10,  1.20e-10,  1.01e-10,  8.44e-11,  7.06e-11,\n",
       "        5.91e-11,  4.93e-11,  4.12e-11,  3.43e-11,  2.86e-11,  2.38e-11,\n",
       "        1.97e-11,  1.64e-11,  1.36e-11,  1.12e-11,  9.31e-12,  7.69e-12,\n",
       "        6.35e-12,  5.24e-12,  4.32e-12,  3.56e-12,  2.92e-12,  2.40e-12,\n",
       "        1.97e-12,  1.62e-12,  1.32e-12,  1.08e-12,  8.85e-13,  7.23e-13,\n",
       "        5.90e-13,  4.80e-13,  3.91e-13,  3.18e-13,  2.58e-13,  2.10e-13,\n",
       "        1.70e-13,  1.38e-13,  1.11e-13,  8.99e-14,  7.26e-14,  5.85e-14,\n",
       "        4.72e-14,  3.80e-14,  3.05e-14,  2.45e-14,  1.97e-14,  1.58e-14,\n",
       "        1.26e-14,  1.01e-14,  8.07e-15,  6.44e-15,  5.13e-15,  4.09e-15,\n",
       "        3.25e-15,  2.59e-15,  2.05e-15,  1.63e-15,  1.29e-15,  1.02e-15,\n",
       "        8.09e-16,  6.39e-16,  5.04e-16,  3.98e-16,  3.13e-16,  2.46e-16,\n",
       "        1.94e-16,  1.52e-16,  1.19e-16,  9.35e-17,  7.32e-17,  5.72e-17,\n",
       "        4.47e-17,  3.49e-17,  2.72e-17,  2.12e-17,  1.65e-17,  1.28e-17,\n",
       "        9.94e-18,  7.71e-18,  5.97e-18,  4.62e-18,  3.57e-18,  2.76e-18,\n",
       "        2.13e-18,  1.64e-18,  1.26e-18,  9.72e-19,  7.47e-19,  5.73e-19,\n",
       "        4.40e-19,  3.37e-19,  2.58e-19,  1.97e-19,  1.51e-19,  1.15e-19,\n",
       "        8.75e-20,  6.66e-20,  5.07e-20,  3.85e-20,  2.92e-20,  2.22e-20,\n",
       "        1.68e-20,  1.27e-20,  9.60e-21,  7.25e-21,  5.47e-21,  4.12e-21,\n",
       "        3.10e-21,  2.33e-21,  1.75e-21,  1.31e-21,  9.86e-22,  7.38e-22,\n",
       "        5.52e-22,  4.13e-22,  3.08e-22,  2.30e-22,  1.71e-22,  1.27e-22,\n",
       "        9.48e-23,  7.04e-23,  5.22e-23,  3.87e-23,  2.87e-23,  2.12e-23,\n",
       "        1.57e-23,  1.16e-23,  8.54e-24,  6.29e-24,  4.63e-24,  3.40e-24,\n",
       "        2.50e-24,  1.83e-24,  1.34e-24,  9.84e-25,  7.20e-25,  5.26e-25,\n",
       "        3.84e-25,  2.80e-25,  2.04e-25,  1.48e-25,  1.08e-25,  7.83e-26,\n",
       "        5.68e-26,  4.12e-26,  2.98e-26,  2.15e-26,  1.56e-26,  1.12e-26,\n",
       "        8.10e-27,  5.83e-27,  4.20e-27,  3.02e-27,  2.17e-27,  1.55e-27,\n",
       "        1.11e-27,  7.97e-28,  5.70e-28,  4.07e-28,  2.90e-28,  2.07e-28,\n",
       "        1.47e-28,  1.05e-28,  7.46e-29,  5.29e-29,  3.75e-29,  2.66e-29,\n",
       "        1.88e-29,  1.33e-29,  9.40e-30,  6.63e-30,  4.67e-30,  3.29e-30,\n",
       "        2.32e-30,  1.63e-30,  1.14e-30,  8.01e-31,  5.61e-31,  3.93e-31,\n",
       "        2.74e-31,  1.92e-31,  1.34e-31,  9.32e-32,  6.49e-32,  4.51e-32,\n",
       "        3.13e-32,  2.18e-32,  1.51e-32,  1.04e-32,  7.23e-33,  5.00e-33,\n",
       "        3.45e-33,  2.38e-33,  1.64e-33,  1.13e-33,  7.76e-34,  5.33e-34,\n",
       "        3.66e-34,  2.51e-34,  1.72e-34,  1.18e-34,  8.03e-35,  5.48e-35,\n",
       "        3.74e-35,  2.55e-35,  1.73e-35,  1.18e-35,  8.01e-36,  5.44e-36,\n",
       "        3.68e-36,  2.50e-36,  1.69e-36,  1.14e-36,  7.70e-37,  5.19e-37,\n",
       "        3.50e-37,  2.35e-37,  1.58e-37,  1.06e-37,  7.13e-38,  4.78e-38,\n",
       "        3.20e-38,  2.14e-38,  1.43e-38,  9.54e-39,  6.36e-39,  4.24e-39,\n",
       "        2.82e-39,  1.88e-39,  1.25e-39,  8.26e-40,  5.47e-40,  3.62e-40,\n",
       "        2.40e-40,  1.58e-40,  1.04e-40,  6.89e-41,  4.54e-41,  2.98e-41,\n",
       "        1.96e-41,  1.29e-41,  8.45e-42,  5.54e-42,  3.62e-42,  2.37e-42,\n",
       "        1.55e-42,  1.01e-42,  6.58e-43,  4.29e-43,  2.79e-43,  1.81e-43,\n",
       "        1.18e-43,  7.63e-44,  4.94e-44,  3.20e-44,  2.07e-44,  1.34e-44,\n",
       "        8.62e-45, -1.80e+01])"
      ]
     },
     "execution_count": 38,
     "metadata": {},
     "output_type": "execute_result"
    }
   ],
   "source": [
    "def g(x,N):\n",
    "    gx = np.zeros(N)\n",
    "    for i in range(0,N-1):\n",
    "        gx[i] = (a * (np.exp(-k * (x[i] - x0)**2))) * DDx\n",
    "    gx[0] = yL*(-2)\n",
    "    gx[N-1] = yR * (-2)\n",
    "    return gx\n",
    "g(x,N)"
   ]
  },
  {
   "cell_type": "code",
   "execution_count": 39,
   "metadata": {},
   "outputs": [
    {
     "data": {
      "text/plain": [
       "Text(0, 0.5, 'g(x)')"
      ]
     },
     "execution_count": 39,
     "metadata": {},
     "output_type": "execute_result"
    },
    {
     "data": {
      "image/png": "[encoded data removed]",
      "text/plain": [
       "<Figure size 640x480 with 1 Axes>"
      ]
     },
     "metadata": {},
     "output_type": "display_data"
    }
   ],
   "source": [
    "#plt.plot(x, g(x,N))\n",
    "\n",
    "fig, ax = plt.subplots()\n",
    "ax.plot(x, g(x,N), color=\"r\", alpha=0.5, linestyle='-', label='Fitted line')\n",
    "ax.set_title('Plot of g(x) against x')\n",
    "ax.set_xlabel('x')\n",
    "ax.set_ylabel('g(x)')"
   ]
  },
  {
   "cell_type": "markdown",
   "metadata": {},
   "source": [
    "Then, construct the NxN matrix of values corresponding to the coefficients of $d^2y$"
   ]
  },
  {
   "cell_type": "code",
   "execution_count": 40,
   "metadata": {},
   "outputs": [
    {
     "data": {
      "text/plain": [
       "array([[-2.,  0.,  0., ...,  0.,  0.,  0.],\n",
       "       [ 1., -2.,  1., ...,  0.,  0.,  0.],\n",
       "       [ 0.,  1., -2., ...,  0.,  0.,  0.],\n",
       "       ...,\n",
       "       [ 0.,  0.,  0., ..., -2.,  1.,  0.],\n",
       "       [ 0.,  0.,  0., ...,  1., -2.,  1.],\n",
       "       [ 0.,  0.,  0., ...,  0.,  0., -2.]])"
      ]
     },
     "execution_count": 40,
     "metadata": {},
     "output_type": "execute_result"
    }
   ],
   "source": [
    "DDy = np.zeros([N,N])\n",
    "for i in range(0, N-1):\n",
    "    DDy[i,i-1] = 1\n",
    "    DDy[i,i] = -2\n",
    "    DDy[i,i+1] = 1\n",
    "\n",
    "DDy[0,1], DDy[0,N-1], DDy[N-1,N-2] = 0, 0, 0\n",
    "DDy[N-1,N-1] = -2\n",
    "DDy"
   ]
  },
  {
   "cell_type": "markdown",
   "metadata": {},
   "source": [
    "Determine $y$ at all mesh points of $x$ by:\n",
    "\n",
    "$\\bold{Y} = [\\Delta \\bold{Y}]^{-2} \\cdot \\bold{G}\n",
    "$"
   ]
  },
  {
   "cell_type": "code",
   "execution_count": 41,
   "metadata": {},
   "outputs": [
    {
     "data": {
      "text/plain": [
       "array([9.  , 8.97, 8.95, 8.92, 8.9 , 8.87, 8.85, 8.82, 8.8 , 8.77, 8.75,\n",
       "       8.72, 8.7 , 8.67, 8.65, 8.62, 8.6 , 8.57, 8.55, 8.52, 8.5 , 8.48,\n",
       "       8.45, 8.43, 8.4 , 8.38, 8.36, 8.33, 8.31, 8.29, 8.26, 8.24, 8.22,\n",
       "       8.19, 8.17, 8.15, 8.13, 8.11, 8.08, 8.06, 8.04, 8.02, 8.  , 7.98,\n",
       "       7.96, 7.94, 7.92, 7.9 , 7.88, 7.86, 7.84, 7.83, 7.81, 7.79, 7.77,\n",
       "       7.76, 7.74, 7.72, 7.71, 7.69, 7.68, 7.66, 7.65, 7.63, 7.62, 7.61,\n",
       "       7.59, 7.58, 7.57, 7.56, 7.54, 7.53, 7.52, 7.51, 7.5 , 7.49, 7.48,\n",
       "       7.48, 7.47, 7.46, 7.45, 7.44, 7.44, 7.43, 7.42, 7.42, 7.41, 7.41,\n",
       "       7.4 , 7.4 , 7.39, 7.39, 7.39, 7.38, 7.38, 7.38, 7.38, 7.37, 7.37,\n",
       "       7.37, 7.37, 7.37, 7.37, 7.37, 7.37, 7.37, 7.37, 7.37, 7.37, 7.37,\n",
       "       7.37, 7.37, 7.37, 7.37, 7.38, 7.38, 7.38, 7.38, 7.38, 7.39, 7.39,\n",
       "       7.39, 7.39, 7.4 , 7.4 , 7.4 , 7.41, 7.41, 7.41, 7.42, 7.42, 7.42,\n",
       "       7.43, 7.43, 7.43, 7.44, 7.44, 7.44, 7.45, 7.45, 7.46, 7.46, 7.46,\n",
       "       7.47, 7.47, 7.48, 7.48, 7.48, 7.49, 7.49, 7.5 , 7.5 , 7.5 , 7.51,\n",
       "       7.51, 7.52, 7.52, 7.53, 7.53, 7.53, 7.54, 7.54, 7.55, 7.55, 7.56,\n",
       "       7.56, 7.56, 7.57, 7.57, 7.58, 7.58, 7.59, 7.59, 7.59, 7.6 , 7.6 ,\n",
       "       7.61, 7.61, 7.62, 7.62, 7.62, 7.63, 7.63, 7.64, 7.64, 7.65, 7.65,\n",
       "       7.65, 7.66, 7.66, 7.67, 7.67, 7.68, 7.68, 7.68, 7.69, 7.69, 7.7 ,\n",
       "       7.7 , 7.71, 7.71, 7.71, 7.72, 7.72, 7.73, 7.73, 7.74, 7.74, 7.74,\n",
       "       7.75, 7.75, 7.76, 7.76, 7.77, 7.77, 7.78, 7.78, 7.78, 7.79, 7.79,\n",
       "       7.8 , 7.8 , 7.81, 7.81, 7.81, 7.82, 7.82, 7.83, 7.83, 7.84, 7.84,\n",
       "       7.84, 7.85, 7.85, 7.86, 7.86, 7.87, 7.87, 7.87, 7.88, 7.88, 7.89,\n",
       "       7.89, 7.9 , 7.9 , 7.9 , 7.91, 7.91, 7.92, 7.92, 7.93, 7.93, 7.93,\n",
       "       7.94, 7.94, 7.95, 7.95, 7.96, 7.96, 7.96, 7.97, 7.97, 7.98, 7.98,\n",
       "       7.99, 7.99, 8.  , 8.  , 8.  , 8.01, 8.01, 8.02, 8.02, 8.03, 8.03,\n",
       "       8.03, 8.04, 8.04, 8.05, 8.05, 8.06, 8.06, 8.06, 8.07, 8.07, 8.08,\n",
       "       8.08, 8.09, 8.09, 8.09, 8.1 , 8.1 , 8.11, 8.11, 8.12, 8.12, 8.12,\n",
       "       8.13, 8.13, 8.14, 8.14, 8.15, 8.15, 8.15, 8.16, 8.16, 8.17, 8.17,\n",
       "       8.18, 8.18, 8.18, 8.19, 8.19, 8.2 , 8.2 , 8.21, 8.21, 8.22, 8.22,\n",
       "       8.22, 8.23, 8.23, 8.24, 8.24, 8.25, 8.25, 8.25, 8.26, 8.26, 8.27,\n",
       "       8.27, 8.28, 8.28, 8.28, 8.29, 8.29, 8.3 , 8.3 , 8.31, 8.31, 8.31,\n",
       "       8.32, 8.32, 8.33, 8.33, 8.34, 8.34, 8.34, 8.35, 8.35, 8.36, 8.36,\n",
       "       8.37, 8.37, 8.37, 8.38, 8.38, 8.39, 8.39, 8.4 , 8.4 , 8.4 , 8.41,\n",
       "       8.41, 8.42, 8.42, 8.43, 8.43, 8.44, 8.44, 8.44, 8.45, 8.45, 8.46,\n",
       "       8.46, 8.47, 8.47, 8.47, 8.48, 8.48, 8.49, 8.49, 8.5 , 8.5 , 8.5 ,\n",
       "       8.51, 8.51, 8.52, 8.52, 8.53, 8.53, 8.53, 8.54, 8.54, 8.55, 8.55,\n",
       "       8.56, 8.56, 8.56, 8.57, 8.57, 8.58, 8.58, 8.59, 8.59, 8.59, 8.6 ,\n",
       "       8.6 , 8.61, 8.61, 8.62, 8.62, 8.62, 8.63, 8.63, 8.64, 8.64, 8.65,\n",
       "       8.65, 8.65, 8.66, 8.66, 8.67, 8.67, 8.68, 8.68, 8.69, 8.69, 8.69,\n",
       "       8.7 , 8.7 , 8.71, 8.71, 8.72, 8.72, 8.72, 8.73, 8.73, 8.74, 8.74,\n",
       "       8.75, 8.75, 8.75, 8.76, 8.76, 8.77, 8.77, 8.78, 8.78, 8.78, 8.79,\n",
       "       8.79, 8.8 , 8.8 , 8.81, 8.81, 8.81, 8.82, 8.82, 8.83, 8.83, 8.84,\n",
       "       8.84, 8.84, 8.85, 8.85, 8.86, 8.86, 8.87, 8.87, 8.87, 8.88, 8.88,\n",
       "       8.89, 8.89, 8.9 , 8.9 , 8.91, 8.91, 8.91, 8.92, 8.92, 8.93, 8.93,\n",
       "       8.94, 8.94, 8.94, 8.95, 8.95, 8.96, 8.96, 8.97, 8.97, 8.97, 8.98,\n",
       "       8.98, 8.99, 8.99, 9.  , 9.  ])"
      ]
     },
     "execution_count": 41,
     "metadata": {},
     "output_type": "execute_result"
    }
   ],
   "source": [
    "DDy = np.linalg.inv(DDy)\n",
    "_arr = g(x,N)\n",
    "y = np.dot(DDy,_arr)\n",
    "y"
   ]
  },
  {
   "cell_type": "markdown",
   "metadata": {},
   "source": [
    "Determine the minimum value of $\\bold{Y}$ by iterating over each $\\bold{Y}_i:i\\ge0$ and evaluating whether that value is smaller than any other value of $\\bold{Y}$"
   ]
  },
  {
   "cell_type": "code",
   "execution_count": 42,
   "metadata": {},
   "outputs": [
    {
     "name": "stdout",
     "output_type": "stream",
     "text": [
      "[-1.1583166332665331, 7.367667211718798]\n"
     ]
    },
    {
     "data": {
      "image/png": "[encoded data removed]",
      "text/plain": [
       "<Figure size 640x480 with 1 Axes>"
      ]
     },
     "metadata": {},
     "output_type": "display_data"
    }
   ],
   "source": [
    "_temp, i = [0,y[0]], 0\n",
    "while(i < y.shape[0]):\n",
    "    if(_temp[1]>y[i]):\n",
    "        _temp = [x[i],y[i]]\n",
    "    i += 1\n",
    "fig, ax = plt.subplots()\n",
    "ax.plot(x, y, color=\"r\", alpha=0.5, linestyle='-', label='Fitted line')\n",
    "ax.set_title('Plot of y against x')\n",
    "ax.set_xlabel('x')\n",
    "ax.set_ylabel('y(x)')\n",
    "ax.plot([_temp[0]], [_temp[1]], 'rx')\n",
    "ax.annotate('y='+str(_temp[1]),[_temp[0]+0.2,_temp[1]])\n",
    "print(_temp)"
   ]
  },
  {
   "cell_type": "markdown",
   "metadata": {},
   "source": [
    "### Question Two\n",
    "A periodic function $f(x)$ is defined on the interval $[-7,7)$\n",
    "Given the values for $f(x)$ at $25$ evenly spaced points on the interval for x, calculate a fourier series of this data.\n",
    "\n",
    "Provide an answer in the form $\\frac{a_2}{b_2}$, the ratio of the coefficients of the $2^{nd}\\textrm{ }sin()\\textrm{ and }cos()$ terms."
   ]
  },
  {
   "cell_type": "markdown",
   "metadata": {},
   "source": [
    "First, we open the data and construct our array of values."
   ]
  },
  {
   "cell_type": "code",
   "execution_count": 43,
   "metadata": {},
   "outputs": [
    {
     "data": {
      "text/plain": [
       "array([[-7.  , -6.44, -5.88, -5.32, -4.76, -4.2 , -3.64, -3.08, -2.52,\n",
       "        -1.96, -1.4 , -0.84, -0.28,  0.28,  0.84,  1.4 ,  1.96,  2.52,\n",
       "         3.08,  3.64,  4.2 ,  4.76,  5.32,  5.88,  6.44],\n",
       "       [-0.3 , -0.57, -0.85, -0.87, -0.43,  0.33,  0.86,  0.65, -0.3 ,\n",
       "        -1.34, -1.58, -0.61,  1.14,  2.62,  2.98,  2.13,  0.76, -0.2 ,\n",
       "        -0.29,  0.26,  0.82,  0.96,  0.66,  0.24, -0.07]])"
      ]
     },
     "execution_count": 43,
     "metadata": {},
     "output_type": "execute_result"
    }
   ],
   "source": [
    "xL = -7\n",
    "xR = 7\n",
    "# #define function to read csv data into an array given a filename\n",
    "# def opencsv(file):\n",
    "#     with open(\"\".join( [\"data/\",file] ), 'r') as f:\n",
    "#         r = csv.reader(f)\n",
    "#         data = list(r)\n",
    "#     #return array of values\n",
    "#     return np.array(data,dtype=float)\n",
    "\n",
    "file = \"test-3_q2.csv\"\n",
    "val = main.opencsv(file)\n",
    "#append evenly spaced mesh for x\n",
    "#don't include endpoint in np.linspace() as the interval is open at x=7\n",
    "val = np.append([np.linspace(xL, xR, val.shape[1], endpoint=False)], val, axis=0)\n",
    "val"
   ]
  },
  {
   "cell_type": "markdown",
   "metadata": {},
   "source": [
    "To determine $\\Delta x$ we take:\n",
    "\n",
    " $\\Delta x = x_1-x_0$"
   ]
  },
  {
   "cell_type": "markdown",
   "metadata": {},
   "source": [
    "To find $a_2$ the coefficient of $cos(\\frac{m\\pi x}{l})$ we take the sum from $x:[-l,l)$ of\n",
    "\n",
    "$\\displaystyle a_m=\\frac{1}{l}\\sum_{i=0}^{N-1}\\phi_m(x_i)f(x_i)\\Delta x\\textrm{,}\\\\\\textrm{where }\\phi_m(x)=cos\\left(\\frac{m\\pi x}{l}\\right)\\textrm{ and }m=2$"
   ]
  },
  {
   "cell_type": "markdown",
   "metadata": {},
   "source": [
    "To find $b_2$ the coefficient of $sin(\\frac{m\\pi x}{l})$ we take the sum from $x:[-l,l)$ of\n",
    "\n",
    "$\\displaystyle b_m=\\frac{1}{l}\\sum_{i=0}^{N-1}\\psi_m(x_i)f(x_i)\\Delta x\\textrm{,}\\\\\\textrm{where }\\psi_m(x)=sin\\left(\\frac{m\\pi x}{l}\\right)\\textrm{ and }m=2$"
   ]
  },
  {
   "cell_type": "code",
   "execution_count": 44,
   "metadata": {},
   "outputs": [
    {
     "name": "stdout",
     "output_type": "stream",
     "text": [
      "0.5447638927057885\n"
     ]
    }
   ],
   "source": [
    "a, b = 0, 0\n",
    "dx = val[0][0]-val[0][1]\n",
    "for i in range(0,25):\n",
    "    a+=np.cos((2*(np.pi)*val[0][i])/7)*val[1][i]*dx\n",
    "    b+=np.sin((2*(np.pi)*val[0][i])/7)*val[1][i]*dx\n",
    "a /= 7\n",
    "b /= 7\n",
    "print(a/b)"
   ]
  }
 ],
 "metadata": {
  "kernelspec": {
   "display_name": "Python 3",
   "language": "python",
   "name": "python3"
  },
  "language_info": {
   "codemirror_mode": {
    "name": "ipython",
    "version": 3
   },
   "file_extension": ".py",
   "mimetype": "text/x-python",
   "name": "python",
   "nbconvert_exporter": "python",
   "pygments_lexer": "ipython3",
   "version": "3.10.8"
  }
 },
 "nbformat": 4,
 "nbformat_minor": 2
}
